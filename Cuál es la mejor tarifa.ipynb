{
 "cells": [
  {
   "cell_type": "markdown",
   "metadata": {
    "id": "3rYiDeEH0q0f"
   },
   "source": [
    "# ¿Cuál es la mejor tarifa?\n",
    "\n",
    "Trabajas como analista para el operador de telecomunicaciones Megaline. La empresa ofrece a sus clientes dos tarifas de prepago, Surf y Ultimate. El departamento comercial quiere saber cuál de las tarifas genera más ingresos para poder ajustar el presupuesto de publicidad.\n",
    "\n",
    "Vas a realizar un análisis preliminar de las tarifas basado en una selección de clientes relativamente pequeña. Tendrás los datos de 500 clientes de Megaline: quiénes son los clientes, de dónde son, qué tarifa usan, así como la cantidad de llamadas que hicieron y los mensajes de texto que enviaron en 2018. Tu trabajo es analizar el comportamiento de los clientes y determinar qué tarifa de prepago genera más ingresos."
   ]
  },
  {
   "cell_type": "markdown",
   "metadata": {
    "id": "VNddPNRQ0q0w"
   },
   "source": [
    "El proposito del siguiente proyecto sera determinar, a raiz de los datos proporcionados, que plan genera mas ingresos para la empresa. Primero se realizara un analisis y limpieza de cada dato por separado para verificar que no existan incosistencias que puedan afectar el analisis estadistico futuro, se limpiaran los datos incluyendo, valores, nulos, duplicados y posible correccion en los tipos de datos utiliados en las tablas originalez. Posteriormente, se realizara un analisis estadistico de cada servicios para determinar el comportamiento de los usuarios de cada plan en llamadas, mensajes y uso de internet; para posteriormente analizar en su conjunto los ingresos que han generado durante el año 2018, concluyendo con la verificacion de la hipotesis estadistica de que cada plan genera ingresos diferente para la empresa y determinando cual de los dos genero mas ingresos en el año de analisis.\n"
   ]
  },
  {
   "cell_type": "markdown",
   "metadata": {
    "id": "MQi4IPy70q0y"
   },
   "source": [
    "## Inicialización"
   ]
  },
  {
   "cell_type": "code",
   "execution_count": 1,
   "metadata": {
    "id": "MtYIuBxu0q0z"
   },
   "outputs": [],
   "source": [
    "# Cargar todas las librerías\n",
    "\n",
    "import pandas as pd\n",
    "from matplotlib import pyplot as plt \n",
    "import seaborn as sns\n",
    "import numpy as np\n",
    "from scipy import stats as st "
   ]
  },
  {
   "cell_type": "markdown",
   "metadata": {
    "id": "4ysWWC5i0q00"
   },
   "source": [
    "## Cargar datos"
   ]
  },
  {
   "cell_type": "code",
   "execution_count": 2,
   "metadata": {
    "id": "CCqPW7rS0q01"
   },
   "outputs": [],
   "source": [
    "# Carga los archivos de datos en diferentes DataFrames\n",
    "\n",
    "calls = pd.read_csv(\"megaline_calls.csv\")\n",
    "internet = pd.read_csv(\"megaline_internet.csv\")\n",
    "messages = pd.read_csv(\"megaline_messages.csv\")\n",
    "plans = pd.read_csv(\"megaline_plans.csv\")\n",
    "users = pd.read_csv(\"megaline_users.csv\")"
   ]
  },
  {
   "cell_type": "markdown",
   "metadata": {
    "id": "69qqoJ3r0q01"
   },
   "source": [
    "## Preparar los datos"
   ]
  },
  {
   "cell_type": "markdown",
   "metadata": {
    "id": "ohBhimvH0q01"
   },
   "source": [
    "## Tarifas"
   ]
  },
  {
   "cell_type": "code",
   "execution_count": 3,
   "metadata": {
    "id": "GptqP3Q40q02"
   },
   "outputs": [
    {
     "name": "stdout",
     "output_type": "stream",
     "text": [
      "<class 'pandas.core.frame.DataFrame'>\n",
      "RangeIndex: 2 entries, 0 to 1\n",
      "Data columns (total 8 columns):\n",
      " #   Column                 Non-Null Count  Dtype  \n",
      "---  ------                 --------------  -----  \n",
      " 0   messages_included      2 non-null      int64  \n",
      " 1   mb_per_month_included  2 non-null      int64  \n",
      " 2   minutes_included       2 non-null      int64  \n",
      " 3   usd_monthly_pay        2 non-null      int64  \n",
      " 4   usd_per_gb             2 non-null      int64  \n",
      " 5   usd_per_message        2 non-null      float64\n",
      " 6   usd_per_minute         2 non-null      float64\n",
      " 7   plan_name              2 non-null      object \n",
      "dtypes: float64(2), int64(5), object(1)\n",
      "memory usage: 260.0+ bytes\n"
     ]
    }
   ],
   "source": [
    "# Imprime la información general/resumida sobre el DataFrame de las tarifas\n",
    "plans.info()"
   ]
  },
  {
   "cell_type": "code",
   "execution_count": 4,
   "metadata": {
    "id": "64xzjwL70q02"
   },
   "outputs": [
    {
     "data": {
      "text/html": [
       "<div>\n",
       "<style scoped>\n",
       "    .dataframe tbody tr th:only-of-type {\n",
       "        vertical-align: middle;\n",
       "    }\n",
       "\n",
       "    .dataframe tbody tr th {\n",
       "        vertical-align: top;\n",
       "    }\n",
       "\n",
       "    .dataframe thead th {\n",
       "        text-align: right;\n",
       "    }\n",
       "</style>\n",
       "<table border=\"1\" class=\"dataframe\">\n",
       "  <thead>\n",
       "    <tr style=\"text-align: right;\">\n",
       "      <th></th>\n",
       "      <th>messages_included</th>\n",
       "      <th>mb_per_month_included</th>\n",
       "      <th>minutes_included</th>\n",
       "      <th>usd_monthly_pay</th>\n",
       "      <th>usd_per_gb</th>\n",
       "      <th>usd_per_message</th>\n",
       "      <th>usd_per_minute</th>\n",
       "      <th>plan_name</th>\n",
       "    </tr>\n",
       "  </thead>\n",
       "  <tbody>\n",
       "    <tr>\n",
       "      <th>0</th>\n",
       "      <td>50</td>\n",
       "      <td>15360</td>\n",
       "      <td>500</td>\n",
       "      <td>20</td>\n",
       "      <td>10</td>\n",
       "      <td>0.03</td>\n",
       "      <td>0.03</td>\n",
       "      <td>surf</td>\n",
       "    </tr>\n",
       "    <tr>\n",
       "      <th>1</th>\n",
       "      <td>1000</td>\n",
       "      <td>30720</td>\n",
       "      <td>3000</td>\n",
       "      <td>70</td>\n",
       "      <td>7</td>\n",
       "      <td>0.01</td>\n",
       "      <td>0.01</td>\n",
       "      <td>ultimate</td>\n",
       "    </tr>\n",
       "  </tbody>\n",
       "</table>\n",
       "</div>"
      ],
      "text/plain": [
       "   messages_included  mb_per_month_included  minutes_included  \\\n",
       "0                 50                  15360               500   \n",
       "1               1000                  30720              3000   \n",
       "\n",
       "   usd_monthly_pay  usd_per_gb  usd_per_message  usd_per_minute plan_name  \n",
       "0               20          10             0.03            0.03      surf  \n",
       "1               70           7             0.01            0.01  ultimate  "
      ]
     },
     "metadata": {},
     "output_type": "display_data"
    },
    {
     "data": {
      "text/plain": [
       "0"
      ]
     },
     "metadata": {},
     "output_type": "display_data"
    }
   ],
   "source": [
    "# Imprime una muestra de los datos para las tarifas\n",
    "\n",
    "display(plans.sample(2))\n",
    "display(plans.duplicated().sum())"
   ]
  },
  {
   "cell_type": "markdown",
   "metadata": {
    "id": "mEc_3_hs0q02"
   },
   "source": [
    "No encontre ninguna inconsistencia en los datos de esta tabla. "
   ]
  },
  {
   "cell_type": "markdown",
   "metadata": {
    "id": "R3C05i1l0q03"
   },
   "source": [
    "## Corregir datos"
   ]
  },
  {
   "cell_type": "code",
   "execution_count": null,
   "metadata": {
    "id": "Y7SVmjGn0q03"
   },
   "outputs": [],
   "source": [
    "\n"
   ]
  },
  {
   "cell_type": "markdown",
   "metadata": {
    "id": "LJir7bml0q03"
   },
   "source": [
    "## Enriquecer los datos"
   ]
  },
  {
   "cell_type": "code",
   "execution_count": null,
   "metadata": {
    "id": "gfcIEuXV0q04"
   },
   "outputs": [],
   "source": []
  },
  {
   "cell_type": "markdown",
   "metadata": {
    "id": "1n2X6WXf0q04"
   },
   "source": [
    "## Usuarios/as"
   ]
  },
  {
   "cell_type": "code",
   "execution_count": 5,
   "metadata": {
    "id": "2NgjWFqx0q05"
   },
   "outputs": [
    {
     "name": "stdout",
     "output_type": "stream",
     "text": [
      "<class 'pandas.core.frame.DataFrame'>\n",
      "RangeIndex: 500 entries, 0 to 499\n",
      "Data columns (total 8 columns):\n",
      " #   Column      Non-Null Count  Dtype \n",
      "---  ------      --------------  ----- \n",
      " 0   user_id     500 non-null    int64 \n",
      " 1   first_name  500 non-null    object\n",
      " 2   last_name   500 non-null    object\n",
      " 3   age         500 non-null    int64 \n",
      " 4   city        500 non-null    object\n",
      " 5   reg_date    500 non-null    object\n",
      " 6   plan        500 non-null    object\n",
      " 7   churn_date  34 non-null     object\n",
      "dtypes: int64(2), object(6)\n",
      "memory usage: 31.4+ KB\n"
     ]
    }
   ],
   "source": [
    "# Imprime la información general/resumida sobre el DataFrame de usuarios\n",
    "users.info()\n"
   ]
  },
  {
   "cell_type": "code",
   "execution_count": 6,
   "metadata": {
    "id": "1IN1L9uh0q05"
   },
   "outputs": [
    {
     "data": {
      "text/html": [
       "<div>\n",
       "<style scoped>\n",
       "    .dataframe tbody tr th:only-of-type {\n",
       "        vertical-align: middle;\n",
       "    }\n",
       "\n",
       "    .dataframe tbody tr th {\n",
       "        vertical-align: top;\n",
       "    }\n",
       "\n",
       "    .dataframe thead th {\n",
       "        text-align: right;\n",
       "    }\n",
       "</style>\n",
       "<table border=\"1\" class=\"dataframe\">\n",
       "  <thead>\n",
       "    <tr style=\"text-align: right;\">\n",
       "      <th></th>\n",
       "      <th>user_id</th>\n",
       "      <th>first_name</th>\n",
       "      <th>last_name</th>\n",
       "      <th>age</th>\n",
       "      <th>city</th>\n",
       "      <th>reg_date</th>\n",
       "      <th>plan</th>\n",
       "      <th>churn_date</th>\n",
       "    </tr>\n",
       "  </thead>\n",
       "  <tbody>\n",
       "    <tr>\n",
       "      <th>401</th>\n",
       "      <td>1401</td>\n",
       "      <td>Charmain</td>\n",
       "      <td>Bryant</td>\n",
       "      <td>67</td>\n",
       "      <td>Richmond, VA MSA</td>\n",
       "      <td>2018-08-24</td>\n",
       "      <td>ultimate</td>\n",
       "      <td>NaN</td>\n",
       "    </tr>\n",
       "    <tr>\n",
       "      <th>476</th>\n",
       "      <td>1476</td>\n",
       "      <td>Tammara</td>\n",
       "      <td>Dorsey</td>\n",
       "      <td>24</td>\n",
       "      <td>Los Angeles-Long Beach-Anaheim, CA MSA</td>\n",
       "      <td>2018-06-10</td>\n",
       "      <td>ultimate</td>\n",
       "      <td>NaN</td>\n",
       "    </tr>\n",
       "    <tr>\n",
       "      <th>440</th>\n",
       "      <td>1440</td>\n",
       "      <td>France</td>\n",
       "      <td>Barrett</td>\n",
       "      <td>49</td>\n",
       "      <td>Nashville-Davidson–Murfreesboro–Franklin, TN MSA</td>\n",
       "      <td>2018-04-16</td>\n",
       "      <td>surf</td>\n",
       "      <td>NaN</td>\n",
       "    </tr>\n",
       "    <tr>\n",
       "      <th>469</th>\n",
       "      <td>1469</td>\n",
       "      <td>Rory</td>\n",
       "      <td>Nixon</td>\n",
       "      <td>75</td>\n",
       "      <td>New York-Newark-Jersey City, NY-NJ-PA MSA</td>\n",
       "      <td>2018-06-04</td>\n",
       "      <td>surf</td>\n",
       "      <td>NaN</td>\n",
       "    </tr>\n",
       "    <tr>\n",
       "      <th>91</th>\n",
       "      <td>1091</td>\n",
       "      <td>Taylor</td>\n",
       "      <td>Oliver</td>\n",
       "      <td>38</td>\n",
       "      <td>Riverside-San Bernardino-Ontario, CA MSA</td>\n",
       "      <td>2018-05-04</td>\n",
       "      <td>ultimate</td>\n",
       "      <td>NaN</td>\n",
       "    </tr>\n",
       "    <tr>\n",
       "      <th>352</th>\n",
       "      <td>1352</td>\n",
       "      <td>Gavin</td>\n",
       "      <td>Galloway</td>\n",
       "      <td>48</td>\n",
       "      <td>Seattle-Tacoma-Bellevue, WA MSA</td>\n",
       "      <td>2018-09-08</td>\n",
       "      <td>ultimate</td>\n",
       "      <td>NaN</td>\n",
       "    </tr>\n",
       "    <tr>\n",
       "      <th>170</th>\n",
       "      <td>1170</td>\n",
       "      <td>Olin</td>\n",
       "      <td>Adkins</td>\n",
       "      <td>18</td>\n",
       "      <td>Pittsburgh, PA MSA</td>\n",
       "      <td>2018-09-25</td>\n",
       "      <td>surf</td>\n",
       "      <td>NaN</td>\n",
       "    </tr>\n",
       "    <tr>\n",
       "      <th>361</th>\n",
       "      <td>1361</td>\n",
       "      <td>Jacelyn</td>\n",
       "      <td>Hoffman</td>\n",
       "      <td>45</td>\n",
       "      <td>Birmingham-Hoover, AL MSA</td>\n",
       "      <td>2018-04-14</td>\n",
       "      <td>surf</td>\n",
       "      <td>NaN</td>\n",
       "    </tr>\n",
       "    <tr>\n",
       "      <th>116</th>\n",
       "      <td>1116</td>\n",
       "      <td>Moriah</td>\n",
       "      <td>Yates</td>\n",
       "      <td>60</td>\n",
       "      <td>Cincinnati, OH-KY-IN MSA</td>\n",
       "      <td>2018-08-08</td>\n",
       "      <td>surf</td>\n",
       "      <td>NaN</td>\n",
       "    </tr>\n",
       "    <tr>\n",
       "      <th>329</th>\n",
       "      <td>1329</td>\n",
       "      <td>Doyle</td>\n",
       "      <td>Nunez</td>\n",
       "      <td>65</td>\n",
       "      <td>Charleston-North Charleston, SC MSA</td>\n",
       "      <td>2018-08-25</td>\n",
       "      <td>ultimate</td>\n",
       "      <td>NaN</td>\n",
       "    </tr>\n",
       "  </tbody>\n",
       "</table>\n",
       "</div>"
      ],
      "text/plain": [
       "     user_id first_name last_name  age  \\\n",
       "401     1401   Charmain    Bryant   67   \n",
       "476     1476    Tammara    Dorsey   24   \n",
       "440     1440     France   Barrett   49   \n",
       "469     1469       Rory     Nixon   75   \n",
       "91      1091     Taylor    Oliver   38   \n",
       "352     1352      Gavin  Galloway   48   \n",
       "170     1170       Olin    Adkins   18   \n",
       "361     1361    Jacelyn   Hoffman   45   \n",
       "116     1116     Moriah     Yates   60   \n",
       "329     1329      Doyle     Nunez   65   \n",
       "\n",
       "                                                 city    reg_date      plan  \\\n",
       "401                                  Richmond, VA MSA  2018-08-24  ultimate   \n",
       "476            Los Angeles-Long Beach-Anaheim, CA MSA  2018-06-10  ultimate   \n",
       "440  Nashville-Davidson–Murfreesboro–Franklin, TN MSA  2018-04-16      surf   \n",
       "469         New York-Newark-Jersey City, NY-NJ-PA MSA  2018-06-04      surf   \n",
       "91           Riverside-San Bernardino-Ontario, CA MSA  2018-05-04  ultimate   \n",
       "352                   Seattle-Tacoma-Bellevue, WA MSA  2018-09-08  ultimate   \n",
       "170                                Pittsburgh, PA MSA  2018-09-25      surf   \n",
       "361                         Birmingham-Hoover, AL MSA  2018-04-14      surf   \n",
       "116                          Cincinnati, OH-KY-IN MSA  2018-08-08      surf   \n",
       "329               Charleston-North Charleston, SC MSA  2018-08-25  ultimate   \n",
       "\n",
       "    churn_date  \n",
       "401        NaN  \n",
       "476        NaN  \n",
       "440        NaN  \n",
       "469        NaN  \n",
       "91         NaN  \n",
       "352        NaN  \n",
       "170        NaN  \n",
       "361        NaN  \n",
       "116        NaN  \n",
       "329        NaN  "
      ]
     },
     "metadata": {},
     "output_type": "display_data"
    },
    {
     "data": {
      "text/plain": [
       "0"
      ]
     },
     "metadata": {},
     "output_type": "display_data"
    }
   ],
   "source": [
    "# Imprime una muestra de datos para usuarios\n",
    "display(users.sample(10))\n",
    "display(users.duplicated().sum())\n",
    "\n"
   ]
  },
  {
   "cell_type": "markdown",
   "metadata": {
    "id": "dCZoUq4f0q06"
   },
   "source": [
    "Es necesario modificar los tipos de datos de las columnas reg_date y churn_date a datetime por si se requiere hacer algun calculo con ellos posteriormente. Churn_date contiene muchos datos nulos; sin embargo, es logico ya que unicamente son los usuarios que han cancelado el servicio. "
   ]
  },
  {
   "cell_type": "markdown",
   "metadata": {
    "id": "BX5FQh_I0q06"
   },
   "source": [
    "### Corregir los datos"
   ]
  },
  {
   "cell_type": "code",
   "execution_count": 7,
   "metadata": {
    "id": "yUqX-K0C0q07"
   },
   "outputs": [
    {
     "name": "stdout",
     "output_type": "stream",
     "text": [
      "<class 'pandas.core.frame.DataFrame'>\n",
      "RangeIndex: 500 entries, 0 to 499\n",
      "Data columns (total 8 columns):\n",
      " #   Column      Non-Null Count  Dtype         \n",
      "---  ------      --------------  -----         \n",
      " 0   user_id     500 non-null    int64         \n",
      " 1   first_name  500 non-null    object        \n",
      " 2   last_name   500 non-null    object        \n",
      " 3   age         500 non-null    int64         \n",
      " 4   city        500 non-null    object        \n",
      " 5   reg_date    500 non-null    datetime64[ns]\n",
      " 6   plan        500 non-null    object        \n",
      " 7   churn_date  34 non-null     datetime64[ns]\n",
      "dtypes: datetime64[ns](2), int64(2), object(4)\n",
      "memory usage: 31.4+ KB\n"
     ]
    }
   ],
   "source": [
    "users['reg_date']=pd.to_datetime(users['reg_date'], format='%Y-%m-%d')\n",
    "users['churn_date']=pd.to_datetime(users['churn_date'], format='%Y-%m-%d')\n",
    "\n",
    "\n",
    "users.info()"
   ]
  },
  {
   "cell_type": "markdown",
   "metadata": {
    "id": "ycwuARJp0q07"
   },
   "source": [
    "### Enriquecer los datos"
   ]
  },
  {
   "cell_type": "code",
   "execution_count": 8,
   "metadata": {
    "id": "iq0AaBS90q08"
   },
   "outputs": [],
   "source": [
    "columns_new_users= {'plan' : 'plan_name'}\n",
    "users=users.rename(columns= columns_new_users)\n",
    "\n",
    "\n"
   ]
  },
  {
   "cell_type": "markdown",
   "metadata": {
    "id": "o7MeKCid0q08"
   },
   "source": [
    "## Llamadas"
   ]
  },
  {
   "cell_type": "code",
   "execution_count": 9,
   "metadata": {
    "id": "6dDlnoDm0q08"
   },
   "outputs": [
    {
     "name": "stdout",
     "output_type": "stream",
     "text": [
      "<class 'pandas.core.frame.DataFrame'>\n",
      "RangeIndex: 137735 entries, 0 to 137734\n",
      "Data columns (total 4 columns):\n",
      " #   Column     Non-Null Count   Dtype  \n",
      "---  ------     --------------   -----  \n",
      " 0   id         137735 non-null  object \n",
      " 1   user_id    137735 non-null  int64  \n",
      " 2   call_date  137735 non-null  object \n",
      " 3   duration   137735 non-null  float64\n",
      "dtypes: float64(1), int64(1), object(2)\n",
      "memory usage: 4.2+ MB\n"
     ]
    }
   ],
   "source": [
    "# Imprime la información general/resumida sobre el DataFrame de las llamadas\n",
    "calls.info()\n"
   ]
  },
  {
   "cell_type": "code",
   "execution_count": 10,
   "metadata": {
    "id": "kuh1vlNB0q09"
   },
   "outputs": [
    {
     "data": {
      "text/html": [
       "<div>\n",
       "<style scoped>\n",
       "    .dataframe tbody tr th:only-of-type {\n",
       "        vertical-align: middle;\n",
       "    }\n",
       "\n",
       "    .dataframe tbody tr th {\n",
       "        vertical-align: top;\n",
       "    }\n",
       "\n",
       "    .dataframe thead th {\n",
       "        text-align: right;\n",
       "    }\n",
       "</style>\n",
       "<table border=\"1\" class=\"dataframe\">\n",
       "  <thead>\n",
       "    <tr style=\"text-align: right;\">\n",
       "      <th></th>\n",
       "      <th>id</th>\n",
       "      <th>user_id</th>\n",
       "      <th>call_date</th>\n",
       "      <th>duration</th>\n",
       "    </tr>\n",
       "  </thead>\n",
       "  <tbody>\n",
       "    <tr>\n",
       "      <th>47507</th>\n",
       "      <td>1172_98</td>\n",
       "      <td>1172</td>\n",
       "      <td>2018-12-11</td>\n",
       "      <td>7.02</td>\n",
       "    </tr>\n",
       "    <tr>\n",
       "      <th>51660</th>\n",
       "      <td>1185_698</td>\n",
       "      <td>1185</td>\n",
       "      <td>2018-08-23</td>\n",
       "      <td>8.60</td>\n",
       "    </tr>\n",
       "    <tr>\n",
       "      <th>121915</th>\n",
       "      <td>1430_368</td>\n",
       "      <td>1430</td>\n",
       "      <td>2018-12-10</td>\n",
       "      <td>0.00</td>\n",
       "    </tr>\n",
       "    <tr>\n",
       "      <th>25531</th>\n",
       "      <td>1098_211</td>\n",
       "      <td>1098</td>\n",
       "      <td>2018-12-09</td>\n",
       "      <td>4.69</td>\n",
       "    </tr>\n",
       "    <tr>\n",
       "      <th>82149</th>\n",
       "      <td>1296_38</td>\n",
       "      <td>1296</td>\n",
       "      <td>2018-12-18</td>\n",
       "      <td>5.24</td>\n",
       "    </tr>\n",
       "    <tr>\n",
       "      <th>94074</th>\n",
       "      <td>1335_304</td>\n",
       "      <td>1335</td>\n",
       "      <td>2018-11-14</td>\n",
       "      <td>15.21</td>\n",
       "    </tr>\n",
       "    <tr>\n",
       "      <th>32004</th>\n",
       "      <td>1120_425</td>\n",
       "      <td>1120</td>\n",
       "      <td>2018-07-17</td>\n",
       "      <td>3.40</td>\n",
       "    </tr>\n",
       "    <tr>\n",
       "      <th>111898</th>\n",
       "      <td>1393_80</td>\n",
       "      <td>1393</td>\n",
       "      <td>2018-11-28</td>\n",
       "      <td>4.64</td>\n",
       "    </tr>\n",
       "    <tr>\n",
       "      <th>76159</th>\n",
       "      <td>1268_663</td>\n",
       "      <td>1268</td>\n",
       "      <td>2018-04-03</td>\n",
       "      <td>1.09</td>\n",
       "    </tr>\n",
       "    <tr>\n",
       "      <th>111591</th>\n",
       "      <td>1392_1</td>\n",
       "      <td>1392</td>\n",
       "      <td>2018-11-02</td>\n",
       "      <td>9.78</td>\n",
       "    </tr>\n",
       "  </tbody>\n",
       "</table>\n",
       "</div>"
      ],
      "text/plain": [
       "              id  user_id   call_date  duration\n",
       "47507    1172_98     1172  2018-12-11      7.02\n",
       "51660   1185_698     1185  2018-08-23      8.60\n",
       "121915  1430_368     1430  2018-12-10      0.00\n",
       "25531   1098_211     1098  2018-12-09      4.69\n",
       "82149    1296_38     1296  2018-12-18      5.24\n",
       "94074   1335_304     1335  2018-11-14     15.21\n",
       "32004   1120_425     1120  2018-07-17      3.40\n",
       "111898   1393_80     1393  2018-11-28      4.64\n",
       "76159   1268_663     1268  2018-04-03      1.09\n",
       "111591    1392_1     1392  2018-11-02      9.78"
      ]
     },
     "metadata": {},
     "output_type": "display_data"
    },
    {
     "name": "stdout",
     "output_type": "stream",
     "text": [
      "0\n"
     ]
    }
   ],
   "source": [
    "# Imprime una muestra de datos para las llamadas\n",
    "display(calls.sample(10))\n",
    "print(calls.duplicated().sum())\n",
    "\n"
   ]
  },
  {
   "cell_type": "markdown",
   "metadata": {
    "id": "DOAxYJSx0q09"
   },
   "source": [
    "El tipo de datos que se observa es correcto con excepcion de la columna call_date que deberia ser cambiada a tipo datatime. No parecen existir valores duplicados. "
   ]
  },
  {
   "cell_type": "markdown",
   "metadata": {
    "id": "S7hzxmbX0q0-"
   },
   "source": [
    "### Corregir los datos"
   ]
  },
  {
   "cell_type": "code",
   "execution_count": 11,
   "metadata": {
    "id": "S2r8xA4f0q0-"
   },
   "outputs": [],
   "source": [
    "calls['call_date']= pd.to_datetime(calls['call_date'], format='%Y-%m-%d')\n"
   ]
  },
  {
   "cell_type": "markdown",
   "metadata": {
    "id": "KrMgTrlG0q0_"
   },
   "source": [
    "### Enriquecer los datos"
   ]
  },
  {
   "cell_type": "code",
   "execution_count": 12,
   "metadata": {
    "id": "iZ1avpA_0q0_"
   },
   "outputs": [],
   "source": [
    "calls['month'] = calls['call_date'].dt.month\n",
    "calls['duration'] = np.ceil(calls['duration']).astype(int)\n"
   ]
  },
  {
   "cell_type": "markdown",
   "metadata": {
    "id": "mOUZSi180q0_"
   },
   "source": [
    "## Mensajes"
   ]
  },
  {
   "cell_type": "code",
   "execution_count": 13,
   "metadata": {
    "id": "R-bYJpdV0q1A"
   },
   "outputs": [
    {
     "name": "stdout",
     "output_type": "stream",
     "text": [
      "<class 'pandas.core.frame.DataFrame'>\n",
      "RangeIndex: 76051 entries, 0 to 76050\n",
      "Data columns (total 3 columns):\n",
      " #   Column        Non-Null Count  Dtype \n",
      "---  ------        --------------  ----- \n",
      " 0   id            76051 non-null  object\n",
      " 1   user_id       76051 non-null  int64 \n",
      " 2   message_date  76051 non-null  object\n",
      "dtypes: int64(1), object(2)\n",
      "memory usage: 1.7+ MB\n"
     ]
    }
   ],
   "source": [
    "# Imprime la información general/resumida sobre el DataFrame de los mensajes\n",
    "\n",
    "messages.info()"
   ]
  },
  {
   "cell_type": "code",
   "execution_count": 14,
   "metadata": {
    "id": "mCEl2iGE0q1A"
   },
   "outputs": [
    {
     "data": {
      "text/html": [
       "<div>\n",
       "<style scoped>\n",
       "    .dataframe tbody tr th:only-of-type {\n",
       "        vertical-align: middle;\n",
       "    }\n",
       "\n",
       "    .dataframe tbody tr th {\n",
       "        vertical-align: top;\n",
       "    }\n",
       "\n",
       "    .dataframe thead th {\n",
       "        text-align: right;\n",
       "    }\n",
       "</style>\n",
       "<table border=\"1\" class=\"dataframe\">\n",
       "  <thead>\n",
       "    <tr style=\"text-align: right;\">\n",
       "      <th></th>\n",
       "      <th>id</th>\n",
       "      <th>user_id</th>\n",
       "      <th>message_date</th>\n",
       "    </tr>\n",
       "  </thead>\n",
       "  <tbody>\n",
       "    <tr>\n",
       "      <th>64437</th>\n",
       "      <td>1412_19</td>\n",
       "      <td>1412</td>\n",
       "      <td>2018-09-14</td>\n",
       "    </tr>\n",
       "    <tr>\n",
       "      <th>54616</th>\n",
       "      <td>1346_119</td>\n",
       "      <td>1346</td>\n",
       "      <td>2018-06-11</td>\n",
       "    </tr>\n",
       "    <tr>\n",
       "      <th>37136</th>\n",
       "      <td>1247_300</td>\n",
       "      <td>1247</td>\n",
       "      <td>2018-11-19</td>\n",
       "    </tr>\n",
       "    <tr>\n",
       "      <th>25234</th>\n",
       "      <td>1151_77</td>\n",
       "      <td>1151</td>\n",
       "      <td>2018-09-12</td>\n",
       "    </tr>\n",
       "    <tr>\n",
       "      <th>2035</th>\n",
       "      <td>1027_18</td>\n",
       "      <td>1027</td>\n",
       "      <td>2018-12-11</td>\n",
       "    </tr>\n",
       "    <tr>\n",
       "      <th>14973</th>\n",
       "      <td>1101_30</td>\n",
       "      <td>1101</td>\n",
       "      <td>2018-12-27</td>\n",
       "    </tr>\n",
       "    <tr>\n",
       "      <th>38705</th>\n",
       "      <td>1254_261</td>\n",
       "      <td>1254</td>\n",
       "      <td>2018-10-20</td>\n",
       "    </tr>\n",
       "    <tr>\n",
       "      <th>75741</th>\n",
       "      <td>1492_87</td>\n",
       "      <td>1492</td>\n",
       "      <td>2018-10-20</td>\n",
       "    </tr>\n",
       "    <tr>\n",
       "      <th>73740</th>\n",
       "      <td>1474_33</td>\n",
       "      <td>1474</td>\n",
       "      <td>2018-12-28</td>\n",
       "    </tr>\n",
       "    <tr>\n",
       "      <th>46129</th>\n",
       "      <td>1314_17</td>\n",
       "      <td>1314</td>\n",
       "      <td>2018-12-08</td>\n",
       "    </tr>\n",
       "  </tbody>\n",
       "</table>\n",
       "</div>"
      ],
      "text/plain": [
       "             id  user_id message_date\n",
       "64437   1412_19     1412   2018-09-14\n",
       "54616  1346_119     1346   2018-06-11\n",
       "37136  1247_300     1247   2018-11-19\n",
       "25234   1151_77     1151   2018-09-12\n",
       "2035    1027_18     1027   2018-12-11\n",
       "14973   1101_30     1101   2018-12-27\n",
       "38705  1254_261     1254   2018-10-20\n",
       "75741   1492_87     1492   2018-10-20\n",
       "73740   1474_33     1474   2018-12-28\n",
       "46129   1314_17     1314   2018-12-08"
      ]
     },
     "metadata": {},
     "output_type": "display_data"
    },
    {
     "name": "stdout",
     "output_type": "stream",
     "text": [
      "0\n"
     ]
    }
   ],
   "source": [
    "# Imprime una muestra de datos para los mensajes\n",
    "display(messages.sample(10))\n",
    "print(messages.duplicated().sum())\n",
    "\n"
   ]
  },
  {
   "cell_type": "markdown",
   "metadata": {
    "id": "04xDj7KH0q1A"
   },
   "source": [
    "No se observan datos nulos ni duplicados. Los tipos de datos se ven bien, unicamente se modifica el tipo de dato de la columna message_date. "
   ]
  },
  {
   "cell_type": "markdown",
   "metadata": {
    "id": "Sprfak900q1B"
   },
   "source": [
    "### Corregir los datos"
   ]
  },
  {
   "cell_type": "code",
   "execution_count": 15,
   "metadata": {
    "id": "vsllvkoa0q1B"
   },
   "outputs": [],
   "source": [
    "messages['message_date']= pd.to_datetime(messages['message_date'], format='%Y-%m-%d')"
   ]
  },
  {
   "cell_type": "markdown",
   "metadata": {
    "id": "HvLid7iD0q1B"
   },
   "source": [
    "### Enriquecer los datos"
   ]
  },
  {
   "cell_type": "code",
   "execution_count": 16,
   "metadata": {
    "id": "zYEXZac10q1C"
   },
   "outputs": [],
   "source": [
    "messages['month'] = messages['message_date'].dt.month"
   ]
  },
  {
   "cell_type": "markdown",
   "metadata": {
    "id": "bStkaxn40q1C"
   },
   "source": [
    "## Internet"
   ]
  },
  {
   "cell_type": "code",
   "execution_count": 17,
   "metadata": {
    "id": "e-Uz5qyn0q1C"
   },
   "outputs": [
    {
     "name": "stdout",
     "output_type": "stream",
     "text": [
      "<class 'pandas.core.frame.DataFrame'>\n",
      "RangeIndex: 104825 entries, 0 to 104824\n",
      "Data columns (total 4 columns):\n",
      " #   Column        Non-Null Count   Dtype  \n",
      "---  ------        --------------   -----  \n",
      " 0   id            104825 non-null  object \n",
      " 1   user_id       104825 non-null  int64  \n",
      " 2   session_date  104825 non-null  object \n",
      " 3   mb_used       104825 non-null  float64\n",
      "dtypes: float64(1), int64(1), object(2)\n",
      "memory usage: 3.2+ MB\n"
     ]
    }
   ],
   "source": [
    "# Imprime la información general/resumida sobre el DataFrame de internet\n",
    "internet.info()\n"
   ]
  },
  {
   "cell_type": "code",
   "execution_count": 18,
   "metadata": {
    "id": "9r3x_XLw0q1C"
   },
   "outputs": [
    {
     "data": {
      "text/html": [
       "<div>\n",
       "<style scoped>\n",
       "    .dataframe tbody tr th:only-of-type {\n",
       "        vertical-align: middle;\n",
       "    }\n",
       "\n",
       "    .dataframe tbody tr th {\n",
       "        vertical-align: top;\n",
       "    }\n",
       "\n",
       "    .dataframe thead th {\n",
       "        text-align: right;\n",
       "    }\n",
       "</style>\n",
       "<table border=\"1\" class=\"dataframe\">\n",
       "  <thead>\n",
       "    <tr style=\"text-align: right;\">\n",
       "      <th></th>\n",
       "      <th>id</th>\n",
       "      <th>user_id</th>\n",
       "      <th>session_date</th>\n",
       "      <th>mb_used</th>\n",
       "    </tr>\n",
       "  </thead>\n",
       "  <tbody>\n",
       "    <tr>\n",
       "      <th>40726</th>\n",
       "      <td>1182_485</td>\n",
       "      <td>1182</td>\n",
       "      <td>2018-10-30</td>\n",
       "      <td>361.08</td>\n",
       "    </tr>\n",
       "    <tr>\n",
       "      <th>56600</th>\n",
       "      <td>1256_157</td>\n",
       "      <td>1256</td>\n",
       "      <td>2018-11-02</td>\n",
       "      <td>592.99</td>\n",
       "    </tr>\n",
       "    <tr>\n",
       "      <th>18999</th>\n",
       "      <td>1085_73</td>\n",
       "      <td>1085</td>\n",
       "      <td>2018-11-19</td>\n",
       "      <td>229.59</td>\n",
       "    </tr>\n",
       "    <tr>\n",
       "      <th>30516</th>\n",
       "      <td>1140_59</td>\n",
       "      <td>1140</td>\n",
       "      <td>2018-11-03</td>\n",
       "      <td>415.92</td>\n",
       "    </tr>\n",
       "    <tr>\n",
       "      <th>46223</th>\n",
       "      <td>1205_38</td>\n",
       "      <td>1205</td>\n",
       "      <td>2018-12-09</td>\n",
       "      <td>0.00</td>\n",
       "    </tr>\n",
       "    <tr>\n",
       "      <th>50458</th>\n",
       "      <td>1224_360</td>\n",
       "      <td>1224</td>\n",
       "      <td>2018-07-22</td>\n",
       "      <td>470.01</td>\n",
       "    </tr>\n",
       "    <tr>\n",
       "      <th>67193</th>\n",
       "      <td>1312_416</td>\n",
       "      <td>1312</td>\n",
       "      <td>2018-03-29</td>\n",
       "      <td>828.59</td>\n",
       "    </tr>\n",
       "    <tr>\n",
       "      <th>49251</th>\n",
       "      <td>1220_272</td>\n",
       "      <td>1220</td>\n",
       "      <td>2018-04-29</td>\n",
       "      <td>71.26</td>\n",
       "    </tr>\n",
       "    <tr>\n",
       "      <th>38333</th>\n",
       "      <td>1171_704</td>\n",
       "      <td>1171</td>\n",
       "      <td>2018-09-05</td>\n",
       "      <td>125.63</td>\n",
       "    </tr>\n",
       "    <tr>\n",
       "      <th>23600</th>\n",
       "      <td>1109_178</td>\n",
       "      <td>1109</td>\n",
       "      <td>2018-12-20</td>\n",
       "      <td>0.00</td>\n",
       "    </tr>\n",
       "  </tbody>\n",
       "</table>\n",
       "</div>"
      ],
      "text/plain": [
       "             id  user_id session_date  mb_used\n",
       "40726  1182_485     1182   2018-10-30   361.08\n",
       "56600  1256_157     1256   2018-11-02   592.99\n",
       "18999   1085_73     1085   2018-11-19   229.59\n",
       "30516   1140_59     1140   2018-11-03   415.92\n",
       "46223   1205_38     1205   2018-12-09     0.00\n",
       "50458  1224_360     1224   2018-07-22   470.01\n",
       "67193  1312_416     1312   2018-03-29   828.59\n",
       "49251  1220_272     1220   2018-04-29    71.26\n",
       "38333  1171_704     1171   2018-09-05   125.63\n",
       "23600  1109_178     1109   2018-12-20     0.00"
      ]
     },
     "metadata": {},
     "output_type": "display_data"
    },
    {
     "name": "stdout",
     "output_type": "stream",
     "text": [
      "0\n"
     ]
    }
   ],
   "source": [
    "# Imprime una muestra de datos para el tráfico de internet\n",
    "\n",
    "display(internet.sample(10))\n",
    "print(internet.duplicated().sum())"
   ]
  },
  {
   "cell_type": "markdown",
   "metadata": {
    "id": "EzOG5ik30q1D"
   },
   "source": [
    "No se observan datos nulos ni duplicados. Los tipos de datos se ven bien, unicamente se modifica el tipo de dato de la columna message_date. "
   ]
  },
  {
   "cell_type": "markdown",
   "metadata": {
    "id": "yA0tkPFg0q1D"
   },
   "source": [
    "### Corregir los datos"
   ]
  },
  {
   "cell_type": "code",
   "execution_count": 19,
   "metadata": {
    "id": "zVeanzdd0q1E"
   },
   "outputs": [],
   "source": [
    "internet['session_date']= pd.to_datetime(internet['session_date'], format='%Y-%m-%d')"
   ]
  },
  {
   "cell_type": "markdown",
   "metadata": {
    "id": "e8_mLF4a0q1E"
   },
   "source": [
    "### Enriquecer los datos"
   ]
  },
  {
   "cell_type": "code",
   "execution_count": 20,
   "metadata": {
    "id": "ESiYPIEK0q1E"
   },
   "outputs": [],
   "source": [
    "internet['month'] = internet['session_date'].dt.month"
   ]
  },
  {
   "cell_type": "markdown",
   "metadata": {
    "id": "3UA2cqIW0q1E"
   },
   "source": [
    "## Estudiar las condiciones de las tarifas"
   ]
  },
  {
   "cell_type": "code",
   "execution_count": 21,
   "metadata": {
    "id": "i409op8p0q1F"
   },
   "outputs": [
    {
     "data": {
      "text/html": [
       "<div>\n",
       "<style scoped>\n",
       "    .dataframe tbody tr th:only-of-type {\n",
       "        vertical-align: middle;\n",
       "    }\n",
       "\n",
       "    .dataframe tbody tr th {\n",
       "        vertical-align: top;\n",
       "    }\n",
       "\n",
       "    .dataframe thead th {\n",
       "        text-align: right;\n",
       "    }\n",
       "</style>\n",
       "<table border=\"1\" class=\"dataframe\">\n",
       "  <thead>\n",
       "    <tr style=\"text-align: right;\">\n",
       "      <th></th>\n",
       "      <th>messages_included</th>\n",
       "      <th>mb_per_month_included</th>\n",
       "      <th>minutes_included</th>\n",
       "      <th>usd_monthly_pay</th>\n",
       "      <th>usd_per_gb</th>\n",
       "      <th>usd_per_message</th>\n",
       "      <th>usd_per_minute</th>\n",
       "      <th>plan_name</th>\n",
       "    </tr>\n",
       "  </thead>\n",
       "  <tbody>\n",
       "    <tr>\n",
       "      <th>0</th>\n",
       "      <td>50</td>\n",
       "      <td>15360</td>\n",
       "      <td>500</td>\n",
       "      <td>20</td>\n",
       "      <td>10</td>\n",
       "      <td>0.03</td>\n",
       "      <td>0.03</td>\n",
       "      <td>surf</td>\n",
       "    </tr>\n",
       "    <tr>\n",
       "      <th>1</th>\n",
       "      <td>1000</td>\n",
       "      <td>30720</td>\n",
       "      <td>3000</td>\n",
       "      <td>70</td>\n",
       "      <td>7</td>\n",
       "      <td>0.01</td>\n",
       "      <td>0.01</td>\n",
       "      <td>ultimate</td>\n",
       "    </tr>\n",
       "  </tbody>\n",
       "</table>\n",
       "</div>"
      ],
      "text/plain": [
       "   messages_included  mb_per_month_included  minutes_included  \\\n",
       "0                 50                  15360               500   \n",
       "1               1000                  30720              3000   \n",
       "\n",
       "   usd_monthly_pay  usd_per_gb  usd_per_message  usd_per_minute plan_name  \n",
       "0               20          10             0.03            0.03      surf  \n",
       "1               70           7             0.01            0.01  ultimate  "
      ]
     },
     "metadata": {},
     "output_type": "display_data"
    }
   ],
   "source": [
    "# Imprime las condiciones de la tarifa y asegúrate de que te quedan claras\n",
    "display(plans)\n"
   ]
  },
  {
   "cell_type": "markdown",
   "metadata": {
    "id": "hMR1tP5d0q1F"
   },
   "source": [
    "## Agregar datos por usuario\n",
    "\n"
   ]
  },
  {
   "cell_type": "code",
   "execution_count": 22,
   "metadata": {
    "id": "A332cedB0q1G"
   },
   "outputs": [
    {
     "data": {
      "text/html": [
       "<div>\n",
       "<style scoped>\n",
       "    .dataframe tbody tr th:only-of-type {\n",
       "        vertical-align: middle;\n",
       "    }\n",
       "\n",
       "    .dataframe tbody tr th {\n",
       "        vertical-align: top;\n",
       "    }\n",
       "\n",
       "    .dataframe thead th {\n",
       "        text-align: right;\n",
       "    }\n",
       "</style>\n",
       "<table border=\"1\" class=\"dataframe\">\n",
       "  <thead>\n",
       "    <tr style=\"text-align: right;\">\n",
       "      <th></th>\n",
       "      <th>user_id</th>\n",
       "      <th>month</th>\n",
       "      <th>id</th>\n",
       "    </tr>\n",
       "  </thead>\n",
       "  <tbody>\n",
       "    <tr>\n",
       "      <th>1731</th>\n",
       "      <td>1382</td>\n",
       "      <td>6</td>\n",
       "      <td>44</td>\n",
       "    </tr>\n",
       "    <tr>\n",
       "      <th>2086</th>\n",
       "      <td>1460</td>\n",
       "      <td>9</td>\n",
       "      <td>59</td>\n",
       "    </tr>\n",
       "    <tr>\n",
       "      <th>930</th>\n",
       "      <td>1198</td>\n",
       "      <td>12</td>\n",
       "      <td>52</td>\n",
       "    </tr>\n",
       "    <tr>\n",
       "      <th>1279</th>\n",
       "      <td>1279</td>\n",
       "      <td>10</td>\n",
       "      <td>59</td>\n",
       "    </tr>\n",
       "    <tr>\n",
       "      <th>130</th>\n",
       "      <td>1036</td>\n",
       "      <td>10</td>\n",
       "      <td>71</td>\n",
       "    </tr>\n",
       "  </tbody>\n",
       "</table>\n",
       "</div>"
      ],
      "text/plain": [
       "      user_id  month  id\n",
       "1731     1382      6  44\n",
       "2086     1460      9  59\n",
       "930      1198     12  52\n",
       "1279     1279     10  59\n",
       "130      1036     10  71"
      ]
     },
     "metadata": {},
     "output_type": "display_data"
    },
    {
     "name": "stdout",
     "output_type": "stream",
     "text": [
      "<class 'pandas.core.frame.DataFrame'>\n",
      "RangeIndex: 2258 entries, 0 to 2257\n",
      "Data columns (total 3 columns):\n",
      " #   Column   Non-Null Count  Dtype\n",
      "---  ------   --------------  -----\n",
      " 0   user_id  2258 non-null   int64\n",
      " 1   month    2258 non-null   int32\n",
      " 2   id       2258 non-null   int64\n",
      "dtypes: int32(1), int64(2)\n",
      "memory usage: 44.2 KB\n"
     ]
    }
   ],
   "source": [
    "\n",
    "# Calcula el número de llamadas hechas por cada usuario al mes. Guarda el resultado.\n",
    "\n",
    "\n",
    "calls_per_month = calls.groupby(['user_id', 'month',])['id'].count().reset_index()\n",
    "display(calls_per_month.sample(5))\n",
    "calls_per_month.info()\n"
   ]
  },
  {
   "cell_type": "code",
   "execution_count": 23,
   "metadata": {
    "id": "aw2cmuql0q1G"
   },
   "outputs": [
    {
     "data": {
      "text/html": [
       "<div>\n",
       "<style scoped>\n",
       "    .dataframe tbody tr th:only-of-type {\n",
       "        vertical-align: middle;\n",
       "    }\n",
       "\n",
       "    .dataframe tbody tr th {\n",
       "        vertical-align: top;\n",
       "    }\n",
       "\n",
       "    .dataframe thead th {\n",
       "        text-align: right;\n",
       "    }\n",
       "</style>\n",
       "<table border=\"1\" class=\"dataframe\">\n",
       "  <thead>\n",
       "    <tr style=\"text-align: right;\">\n",
       "      <th></th>\n",
       "      <th>user_id</th>\n",
       "      <th>month</th>\n",
       "      <th>duration</th>\n",
       "    </tr>\n",
       "  </thead>\n",
       "  <tbody>\n",
       "    <tr>\n",
       "      <th>61</th>\n",
       "      <td>1016</td>\n",
       "      <td>12</td>\n",
       "      <td>837</td>\n",
       "    </tr>\n",
       "    <tr>\n",
       "      <th>549</th>\n",
       "      <td>1119</td>\n",
       "      <td>10</td>\n",
       "      <td>351</td>\n",
       "    </tr>\n",
       "    <tr>\n",
       "      <th>1773</th>\n",
       "      <td>1389</td>\n",
       "      <td>12</td>\n",
       "      <td>564</td>\n",
       "    </tr>\n",
       "    <tr>\n",
       "      <th>1833</th>\n",
       "      <td>1401</td>\n",
       "      <td>9</td>\n",
       "      <td>647</td>\n",
       "    </tr>\n",
       "    <tr>\n",
       "      <th>1103</th>\n",
       "      <td>1240</td>\n",
       "      <td>12</td>\n",
       "      <td>1119</td>\n",
       "    </tr>\n",
       "  </tbody>\n",
       "</table>\n",
       "</div>"
      ],
      "text/plain": [
       "      user_id  month  duration\n",
       "61       1016     12       837\n",
       "549      1119     10       351\n",
       "1773     1389     12       564\n",
       "1833     1401      9       647\n",
       "1103     1240     12      1119"
      ]
     },
     "metadata": {},
     "output_type": "display_data"
    },
    {
     "name": "stdout",
     "output_type": "stream",
     "text": [
      "<class 'pandas.core.frame.DataFrame'>\n",
      "RangeIndex: 2258 entries, 0 to 2257\n",
      "Data columns (total 3 columns):\n",
      " #   Column    Non-Null Count  Dtype\n",
      "---  ------    --------------  -----\n",
      " 0   user_id   2258 non-null   int64\n",
      " 1   month     2258 non-null   int32\n",
      " 2   duration  2258 non-null   int32\n",
      "dtypes: int32(2), int64(1)\n",
      "memory usage: 35.4 KB\n"
     ]
    }
   ],
   "source": [
    "# Calcula la cantidad de minutos usados por cada usuario al mes. Guarda el resultado.\n",
    "minutes_per_month = calls.groupby(['user_id', 'month'])['duration'].sum().reset_index()\n",
    "display(minutes_per_month.sample(5))\n",
    "minutes_per_month.info()\n"
   ]
  },
  {
   "cell_type": "code",
   "execution_count": 24,
   "metadata": {
    "id": "CcQvNHn60q1G"
   },
   "outputs": [
    {
     "data": {
      "text/html": [
       "<div>\n",
       "<style scoped>\n",
       "    .dataframe tbody tr th:only-of-type {\n",
       "        vertical-align: middle;\n",
       "    }\n",
       "\n",
       "    .dataframe tbody tr th {\n",
       "        vertical-align: top;\n",
       "    }\n",
       "\n",
       "    .dataframe thead th {\n",
       "        text-align: right;\n",
       "    }\n",
       "</style>\n",
       "<table border=\"1\" class=\"dataframe\">\n",
       "  <thead>\n",
       "    <tr style=\"text-align: right;\">\n",
       "      <th></th>\n",
       "      <th>user_id</th>\n",
       "      <th>month</th>\n",
       "      <th>id</th>\n",
       "    </tr>\n",
       "  </thead>\n",
       "  <tbody>\n",
       "    <tr>\n",
       "      <th>1265</th>\n",
       "      <td>1340</td>\n",
       "      <td>8</td>\n",
       "      <td>8</td>\n",
       "    </tr>\n",
       "    <tr>\n",
       "      <th>242</th>\n",
       "      <td>1072</td>\n",
       "      <td>12</td>\n",
       "      <td>18</td>\n",
       "    </tr>\n",
       "    <tr>\n",
       "      <th>473</th>\n",
       "      <td>1131</td>\n",
       "      <td>8</td>\n",
       "      <td>33</td>\n",
       "    </tr>\n",
       "    <tr>\n",
       "      <th>946</th>\n",
       "      <td>1252</td>\n",
       "      <td>9</td>\n",
       "      <td>28</td>\n",
       "    </tr>\n",
       "    <tr>\n",
       "      <th>1228</th>\n",
       "      <td>1333</td>\n",
       "      <td>12</td>\n",
       "      <td>7</td>\n",
       "    </tr>\n",
       "  </tbody>\n",
       "</table>\n",
       "</div>"
      ],
      "text/plain": [
       "      user_id  month  id\n",
       "1265     1340      8   8\n",
       "242      1072     12  18\n",
       "473      1131      8  33\n",
       "946      1252      9  28\n",
       "1228     1333     12   7"
      ]
     },
     "metadata": {},
     "output_type": "display_data"
    },
    {
     "name": "stdout",
     "output_type": "stream",
     "text": [
      "<class 'pandas.core.frame.DataFrame'>\n",
      "RangeIndex: 1806 entries, 0 to 1805\n",
      "Data columns (total 3 columns):\n",
      " #   Column   Non-Null Count  Dtype\n",
      "---  ------   --------------  -----\n",
      " 0   user_id  1806 non-null   int64\n",
      " 1   month    1806 non-null   int32\n",
      " 2   id       1806 non-null   int64\n",
      "dtypes: int32(1), int64(2)\n",
      "memory usage: 35.4 KB\n"
     ]
    }
   ],
   "source": [
    "# Calcula el número de mensajes enviados por cada usuario al mes. Guarda el resultado.\n",
    "\n",
    "\n",
    "messages_per_month = messages.groupby(['user_id', 'month'])['id'].count().reset_index()\n",
    "display(messages_per_month.sample(5))\n",
    "messages_per_month.info()\n"
   ]
  },
  {
   "cell_type": "code",
   "execution_count": 25,
   "metadata": {
    "id": "H1AqN2eG0q1H"
   },
   "outputs": [
    {
     "data": {
      "text/html": [
       "<div>\n",
       "<style scoped>\n",
       "    .dataframe tbody tr th:only-of-type {\n",
       "        vertical-align: middle;\n",
       "    }\n",
       "\n",
       "    .dataframe tbody tr th {\n",
       "        vertical-align: top;\n",
       "    }\n",
       "\n",
       "    .dataframe thead th {\n",
       "        text-align: right;\n",
       "    }\n",
       "</style>\n",
       "<table border=\"1\" class=\"dataframe\">\n",
       "  <thead>\n",
       "    <tr style=\"text-align: right;\">\n",
       "      <th></th>\n",
       "      <th>user_id</th>\n",
       "      <th>month</th>\n",
       "      <th>gb_used</th>\n",
       "    </tr>\n",
       "  </thead>\n",
       "  <tbody>\n",
       "    <tr>\n",
       "      <th>0</th>\n",
       "      <td>1000</td>\n",
       "      <td>12</td>\n",
       "      <td>2</td>\n",
       "    </tr>\n",
       "    <tr>\n",
       "      <th>1</th>\n",
       "      <td>1001</td>\n",
       "      <td>8</td>\n",
       "      <td>7</td>\n",
       "    </tr>\n",
       "    <tr>\n",
       "      <th>2</th>\n",
       "      <td>1001</td>\n",
       "      <td>9</td>\n",
       "      <td>14</td>\n",
       "    </tr>\n",
       "    <tr>\n",
       "      <th>3</th>\n",
       "      <td>1001</td>\n",
       "      <td>10</td>\n",
       "      <td>22</td>\n",
       "    </tr>\n",
       "    <tr>\n",
       "      <th>4</th>\n",
       "      <td>1001</td>\n",
       "      <td>11</td>\n",
       "      <td>19</td>\n",
       "    </tr>\n",
       "    <tr>\n",
       "      <th>5</th>\n",
       "      <td>1001</td>\n",
       "      <td>12</td>\n",
       "      <td>19</td>\n",
       "    </tr>\n",
       "    <tr>\n",
       "      <th>6</th>\n",
       "      <td>1002</td>\n",
       "      <td>10</td>\n",
       "      <td>7</td>\n",
       "    </tr>\n",
       "    <tr>\n",
       "      <th>7</th>\n",
       "      <td>1002</td>\n",
       "      <td>11</td>\n",
       "      <td>19</td>\n",
       "    </tr>\n",
       "    <tr>\n",
       "      <th>8</th>\n",
       "      <td>1002</td>\n",
       "      <td>12</td>\n",
       "      <td>15</td>\n",
       "    </tr>\n",
       "    <tr>\n",
       "      <th>9</th>\n",
       "      <td>1003</td>\n",
       "      <td>12</td>\n",
       "      <td>27</td>\n",
       "    </tr>\n",
       "  </tbody>\n",
       "</table>\n",
       "</div>"
      ],
      "text/plain": [
       "   user_id  month  gb_used\n",
       "0     1000     12        2\n",
       "1     1001      8        7\n",
       "2     1001      9       14\n",
       "3     1001     10       22\n",
       "4     1001     11       19\n",
       "5     1001     12       19\n",
       "6     1002     10        7\n",
       "7     1002     11       19\n",
       "8     1002     12       15\n",
       "9     1003     12       27"
      ]
     },
     "metadata": {},
     "output_type": "display_data"
    },
    {
     "name": "stdout",
     "output_type": "stream",
     "text": [
      "<class 'pandas.core.frame.DataFrame'>\n",
      "RangeIndex: 2277 entries, 0 to 2276\n",
      "Data columns (total 3 columns):\n",
      " #   Column   Non-Null Count  Dtype\n",
      "---  ------   --------------  -----\n",
      " 0   user_id  2277 non-null   int64\n",
      " 1   month    2277 non-null   int32\n",
      " 2   gb_used  2277 non-null   int32\n",
      "dtypes: int32(2), int64(1)\n",
      "memory usage: 35.7 KB\n"
     ]
    }
   ],
   "source": [
    "# Calcula el volumen del tráfico de Internet usado por cada usuario al mes. Guarda el resultado.\n",
    "\n",
    "column_new = {'mb_used' : 'gb_used'}\n",
    "\n",
    "internet_per_month = internet.groupby(['user_id', 'month'])['mb_used'].sum().reset_index()\n",
    "\n",
    "internet_per_month['mb_used'] = internet_per_month['mb_used']/1024\n",
    "\n",
    "internet_per_month['mb_used'] = np.ceil(internet_per_month['mb_used']).astype(int)\n",
    "\n",
    "internet_per_month = internet_per_month.rename(columns= column_new)\n",
    "\n",
    "display(internet_per_month.head(10))\n",
    "\n",
    "internet_per_month.info()"
   ]
  },
  {
   "cell_type": "code",
   "execution_count": 26,
   "metadata": {
    "id": "FW99ykyf0q1H"
   },
   "outputs": [],
   "source": [
    "# Fusiona los datos de llamadas, minutos, mensajes e Internet con base en user_id y month\n",
    "columns_new = {'id_x': 'total_calls', 'id_y': 'total_messages'}\n",
    "\n",
    "group_merge = calls_per_month.merge(minutes_per_month, on=['user_id','month'], how='outer')\n",
    "\n",
    "group_merge = group_merge.merge(messages_per_month, on=['user_id','month'], how='outer')\n",
    "\n",
    "group_merge = group_merge.merge(internet_per_month, on=['user_id','month'], how='outer')\n",
    "\n",
    "user_spend_per_month = users.merge(group_merge, on='user_id')\n",
    "\n",
    "user_spend_per_month = user_spend_per_month.rename(columns=columns_new)\n"
   ]
  },
  {
   "cell_type": "code",
   "execution_count": 27,
   "metadata": {},
   "outputs": [],
   "source": [
    "user_spend_per_month['total_calls'] = user_spend_per_month['total_calls'].fillna(0)\n",
    "\n",
    "user_spend_per_month['duration'] = user_spend_per_month['duration'].fillna(0)\n",
    "\n",
    "user_spend_per_month['total_calls'] = user_spend_per_month['total_calls'].fillna(0)\n",
    "\n",
    "user_spend_per_month['total_messages'] = user_spend_per_month['total_messages'].fillna(0)\n",
    "\n",
    "user_spend_per_month['gb_used'] = user_spend_per_month['gb_used'].fillna(0)\n",
    "\n",
    "user_spend_per_month['total_calls'] = user_spend_per_month['total_calls'].astype('int')\n",
    "\n",
    "user_spend_per_month['total_messages'] = user_spend_per_month['total_messages'].astype('int')\n"
   ]
  },
  {
   "cell_type": "code",
   "execution_count": 28,
   "metadata": {
    "id": "0dNOXHag0q1H"
   },
   "outputs": [
    {
     "data": {
      "text/html": [
       "<div>\n",
       "<style scoped>\n",
       "    .dataframe tbody tr th:only-of-type {\n",
       "        vertical-align: middle;\n",
       "    }\n",
       "\n",
       "    .dataframe tbody tr th {\n",
       "        vertical-align: top;\n",
       "    }\n",
       "\n",
       "    .dataframe thead th {\n",
       "        text-align: right;\n",
       "    }\n",
       "</style>\n",
       "<table border=\"1\" class=\"dataframe\">\n",
       "  <thead>\n",
       "    <tr style=\"text-align: right;\">\n",
       "      <th></th>\n",
       "      <th>user_id</th>\n",
       "      <th>first_name</th>\n",
       "      <th>last_name</th>\n",
       "      <th>age</th>\n",
       "      <th>city</th>\n",
       "      <th>reg_date</th>\n",
       "      <th>plan_name</th>\n",
       "      <th>churn_date</th>\n",
       "      <th>month</th>\n",
       "      <th>total_calls</th>\n",
       "      <th>duration</th>\n",
       "      <th>total_messages</th>\n",
       "      <th>gb_used</th>\n",
       "      <th>messages_included</th>\n",
       "      <th>mb_per_month_included</th>\n",
       "      <th>minutes_included</th>\n",
       "      <th>usd_monthly_pay</th>\n",
       "      <th>usd_per_gb</th>\n",
       "      <th>usd_per_message</th>\n",
       "      <th>usd_per_minute</th>\n",
       "    </tr>\n",
       "  </thead>\n",
       "  <tbody>\n",
       "    <tr>\n",
       "      <th>0</th>\n",
       "      <td>1000</td>\n",
       "      <td>Anamaria</td>\n",
       "      <td>Bauer</td>\n",
       "      <td>45</td>\n",
       "      <td>Atlanta-Sandy Springs-Roswell, GA MSA</td>\n",
       "      <td>2018-12-24</td>\n",
       "      <td>ultimate</td>\n",
       "      <td>NaT</td>\n",
       "      <td>12</td>\n",
       "      <td>16</td>\n",
       "      <td>124.0</td>\n",
       "      <td>11</td>\n",
       "      <td>2.0</td>\n",
       "      <td>1000</td>\n",
       "      <td>30720</td>\n",
       "      <td>3000</td>\n",
       "      <td>70</td>\n",
       "      <td>7</td>\n",
       "      <td>0.01</td>\n",
       "      <td>0.01</td>\n",
       "    </tr>\n",
       "    <tr>\n",
       "      <th>1</th>\n",
       "      <td>1001</td>\n",
       "      <td>Mickey</td>\n",
       "      <td>Wilkerson</td>\n",
       "      <td>28</td>\n",
       "      <td>Seattle-Tacoma-Bellevue, WA MSA</td>\n",
       "      <td>2018-08-13</td>\n",
       "      <td>surf</td>\n",
       "      <td>NaT</td>\n",
       "      <td>8</td>\n",
       "      <td>27</td>\n",
       "      <td>182.0</td>\n",
       "      <td>30</td>\n",
       "      <td>7.0</td>\n",
       "      <td>50</td>\n",
       "      <td>15360</td>\n",
       "      <td>500</td>\n",
       "      <td>20</td>\n",
       "      <td>10</td>\n",
       "      <td>0.03</td>\n",
       "      <td>0.03</td>\n",
       "    </tr>\n",
       "    <tr>\n",
       "      <th>2</th>\n",
       "      <td>1001</td>\n",
       "      <td>Mickey</td>\n",
       "      <td>Wilkerson</td>\n",
       "      <td>28</td>\n",
       "      <td>Seattle-Tacoma-Bellevue, WA MSA</td>\n",
       "      <td>2018-08-13</td>\n",
       "      <td>surf</td>\n",
       "      <td>NaT</td>\n",
       "      <td>9</td>\n",
       "      <td>49</td>\n",
       "      <td>315.0</td>\n",
       "      <td>44</td>\n",
       "      <td>14.0</td>\n",
       "      <td>50</td>\n",
       "      <td>15360</td>\n",
       "      <td>500</td>\n",
       "      <td>20</td>\n",
       "      <td>10</td>\n",
       "      <td>0.03</td>\n",
       "      <td>0.03</td>\n",
       "    </tr>\n",
       "    <tr>\n",
       "      <th>3</th>\n",
       "      <td>1001</td>\n",
       "      <td>Mickey</td>\n",
       "      <td>Wilkerson</td>\n",
       "      <td>28</td>\n",
       "      <td>Seattle-Tacoma-Bellevue, WA MSA</td>\n",
       "      <td>2018-08-13</td>\n",
       "      <td>surf</td>\n",
       "      <td>NaT</td>\n",
       "      <td>10</td>\n",
       "      <td>65</td>\n",
       "      <td>393.0</td>\n",
       "      <td>53</td>\n",
       "      <td>22.0</td>\n",
       "      <td>50</td>\n",
       "      <td>15360</td>\n",
       "      <td>500</td>\n",
       "      <td>20</td>\n",
       "      <td>10</td>\n",
       "      <td>0.03</td>\n",
       "      <td>0.03</td>\n",
       "    </tr>\n",
       "    <tr>\n",
       "      <th>4</th>\n",
       "      <td>1001</td>\n",
       "      <td>Mickey</td>\n",
       "      <td>Wilkerson</td>\n",
       "      <td>28</td>\n",
       "      <td>Seattle-Tacoma-Bellevue, WA MSA</td>\n",
       "      <td>2018-08-13</td>\n",
       "      <td>surf</td>\n",
       "      <td>NaT</td>\n",
       "      <td>11</td>\n",
       "      <td>64</td>\n",
       "      <td>426.0</td>\n",
       "      <td>36</td>\n",
       "      <td>19.0</td>\n",
       "      <td>50</td>\n",
       "      <td>15360</td>\n",
       "      <td>500</td>\n",
       "      <td>20</td>\n",
       "      <td>10</td>\n",
       "      <td>0.03</td>\n",
       "      <td>0.03</td>\n",
       "    </tr>\n",
       "    <tr>\n",
       "      <th>5</th>\n",
       "      <td>1001</td>\n",
       "      <td>Mickey</td>\n",
       "      <td>Wilkerson</td>\n",
       "      <td>28</td>\n",
       "      <td>Seattle-Tacoma-Bellevue, WA MSA</td>\n",
       "      <td>2018-08-13</td>\n",
       "      <td>surf</td>\n",
       "      <td>NaT</td>\n",
       "      <td>12</td>\n",
       "      <td>56</td>\n",
       "      <td>412.0</td>\n",
       "      <td>44</td>\n",
       "      <td>19.0</td>\n",
       "      <td>50</td>\n",
       "      <td>15360</td>\n",
       "      <td>500</td>\n",
       "      <td>20</td>\n",
       "      <td>10</td>\n",
       "      <td>0.03</td>\n",
       "      <td>0.03</td>\n",
       "    </tr>\n",
       "    <tr>\n",
       "      <th>6</th>\n",
       "      <td>1002</td>\n",
       "      <td>Carlee</td>\n",
       "      <td>Hoffman</td>\n",
       "      <td>36</td>\n",
       "      <td>Las Vegas-Henderson-Paradise, NV MSA</td>\n",
       "      <td>2018-10-21</td>\n",
       "      <td>surf</td>\n",
       "      <td>NaT</td>\n",
       "      <td>10</td>\n",
       "      <td>11</td>\n",
       "      <td>59.0</td>\n",
       "      <td>15</td>\n",
       "      <td>7.0</td>\n",
       "      <td>50</td>\n",
       "      <td>15360</td>\n",
       "      <td>500</td>\n",
       "      <td>20</td>\n",
       "      <td>10</td>\n",
       "      <td>0.03</td>\n",
       "      <td>0.03</td>\n",
       "    </tr>\n",
       "    <tr>\n",
       "      <th>7</th>\n",
       "      <td>1002</td>\n",
       "      <td>Carlee</td>\n",
       "      <td>Hoffman</td>\n",
       "      <td>36</td>\n",
       "      <td>Las Vegas-Henderson-Paradise, NV MSA</td>\n",
       "      <td>2018-10-21</td>\n",
       "      <td>surf</td>\n",
       "      <td>NaT</td>\n",
       "      <td>11</td>\n",
       "      <td>55</td>\n",
       "      <td>386.0</td>\n",
       "      <td>32</td>\n",
       "      <td>19.0</td>\n",
       "      <td>50</td>\n",
       "      <td>15360</td>\n",
       "      <td>500</td>\n",
       "      <td>20</td>\n",
       "      <td>10</td>\n",
       "      <td>0.03</td>\n",
       "      <td>0.03</td>\n",
       "    </tr>\n",
       "    <tr>\n",
       "      <th>8</th>\n",
       "      <td>1002</td>\n",
       "      <td>Carlee</td>\n",
       "      <td>Hoffman</td>\n",
       "      <td>36</td>\n",
       "      <td>Las Vegas-Henderson-Paradise, NV MSA</td>\n",
       "      <td>2018-10-21</td>\n",
       "      <td>surf</td>\n",
       "      <td>NaT</td>\n",
       "      <td>12</td>\n",
       "      <td>47</td>\n",
       "      <td>384.0</td>\n",
       "      <td>41</td>\n",
       "      <td>15.0</td>\n",
       "      <td>50</td>\n",
       "      <td>15360</td>\n",
       "      <td>500</td>\n",
       "      <td>20</td>\n",
       "      <td>10</td>\n",
       "      <td>0.03</td>\n",
       "      <td>0.03</td>\n",
       "    </tr>\n",
       "    <tr>\n",
       "      <th>9</th>\n",
       "      <td>1003</td>\n",
       "      <td>Reynaldo</td>\n",
       "      <td>Jenkins</td>\n",
       "      <td>52</td>\n",
       "      <td>Tulsa, OK MSA</td>\n",
       "      <td>2018-01-28</td>\n",
       "      <td>surf</td>\n",
       "      <td>NaT</td>\n",
       "      <td>12</td>\n",
       "      <td>149</td>\n",
       "      <td>1104.0</td>\n",
       "      <td>50</td>\n",
       "      <td>27.0</td>\n",
       "      <td>50</td>\n",
       "      <td>15360</td>\n",
       "      <td>500</td>\n",
       "      <td>20</td>\n",
       "      <td>10</td>\n",
       "      <td>0.03</td>\n",
       "      <td>0.03</td>\n",
       "    </tr>\n",
       "  </tbody>\n",
       "</table>\n",
       "</div>"
      ],
      "text/plain": [
       "   user_id first_name  last_name  age                                   city  \\\n",
       "0     1000   Anamaria      Bauer   45  Atlanta-Sandy Springs-Roswell, GA MSA   \n",
       "1     1001     Mickey  Wilkerson   28        Seattle-Tacoma-Bellevue, WA MSA   \n",
       "2     1001     Mickey  Wilkerson   28        Seattle-Tacoma-Bellevue, WA MSA   \n",
       "3     1001     Mickey  Wilkerson   28        Seattle-Tacoma-Bellevue, WA MSA   \n",
       "4     1001     Mickey  Wilkerson   28        Seattle-Tacoma-Bellevue, WA MSA   \n",
       "5     1001     Mickey  Wilkerson   28        Seattle-Tacoma-Bellevue, WA MSA   \n",
       "6     1002     Carlee    Hoffman   36   Las Vegas-Henderson-Paradise, NV MSA   \n",
       "7     1002     Carlee    Hoffman   36   Las Vegas-Henderson-Paradise, NV MSA   \n",
       "8     1002     Carlee    Hoffman   36   Las Vegas-Henderson-Paradise, NV MSA   \n",
       "9     1003   Reynaldo    Jenkins   52                          Tulsa, OK MSA   \n",
       "\n",
       "    reg_date plan_name churn_date  month  total_calls  duration  \\\n",
       "0 2018-12-24  ultimate        NaT     12           16     124.0   \n",
       "1 2018-08-13      surf        NaT      8           27     182.0   \n",
       "2 2018-08-13      surf        NaT      9           49     315.0   \n",
       "3 2018-08-13      surf        NaT     10           65     393.0   \n",
       "4 2018-08-13      surf        NaT     11           64     426.0   \n",
       "5 2018-08-13      surf        NaT     12           56     412.0   \n",
       "6 2018-10-21      surf        NaT     10           11      59.0   \n",
       "7 2018-10-21      surf        NaT     11           55     386.0   \n",
       "8 2018-10-21      surf        NaT     12           47     384.0   \n",
       "9 2018-01-28      surf        NaT     12          149    1104.0   \n",
       "\n",
       "   total_messages  gb_used  messages_included  mb_per_month_included  \\\n",
       "0              11      2.0               1000                  30720   \n",
       "1              30      7.0                 50                  15360   \n",
       "2              44     14.0                 50                  15360   \n",
       "3              53     22.0                 50                  15360   \n",
       "4              36     19.0                 50                  15360   \n",
       "5              44     19.0                 50                  15360   \n",
       "6              15      7.0                 50                  15360   \n",
       "7              32     19.0                 50                  15360   \n",
       "8              41     15.0                 50                  15360   \n",
       "9              50     27.0                 50                  15360   \n",
       "\n",
       "   minutes_included  usd_monthly_pay  usd_per_gb  usd_per_message  \\\n",
       "0              3000               70           7             0.01   \n",
       "1               500               20          10             0.03   \n",
       "2               500               20          10             0.03   \n",
       "3               500               20          10             0.03   \n",
       "4               500               20          10             0.03   \n",
       "5               500               20          10             0.03   \n",
       "6               500               20          10             0.03   \n",
       "7               500               20          10             0.03   \n",
       "8               500               20          10             0.03   \n",
       "9               500               20          10             0.03   \n",
       "\n",
       "   usd_per_minute  \n",
       "0            0.01  \n",
       "1            0.03  \n",
       "2            0.03  \n",
       "3            0.03  \n",
       "4            0.03  \n",
       "5            0.03  \n",
       "6            0.03  \n",
       "7            0.03  \n",
       "8            0.03  \n",
       "9            0.03  "
      ]
     },
     "metadata": {},
     "output_type": "display_data"
    },
    {
     "name": "stdout",
     "output_type": "stream",
     "text": [
      "<class 'pandas.core.frame.DataFrame'>\n",
      "RangeIndex: 2293 entries, 0 to 2292\n",
      "Data columns (total 20 columns):\n",
      " #   Column                 Non-Null Count  Dtype         \n",
      "---  ------                 --------------  -----         \n",
      " 0   user_id                2293 non-null   int64         \n",
      " 1   first_name             2293 non-null   object        \n",
      " 2   last_name              2293 non-null   object        \n",
      " 3   age                    2293 non-null   int64         \n",
      " 4   city                   2293 non-null   object        \n",
      " 5   reg_date               2293 non-null   datetime64[ns]\n",
      " 6   plan_name              2293 non-null   object        \n",
      " 7   churn_date             158 non-null    datetime64[ns]\n",
      " 8   month                  2293 non-null   int32         \n",
      " 9   total_calls            2293 non-null   int32         \n",
      " 10  duration               2293 non-null   float64       \n",
      " 11  total_messages         2293 non-null   int32         \n",
      " 12  gb_used                2293 non-null   float64       \n",
      " 13  messages_included      2293 non-null   int64         \n",
      " 14  mb_per_month_included  2293 non-null   int64         \n",
      " 15  minutes_included       2293 non-null   int64         \n",
      " 16  usd_monthly_pay        2293 non-null   int64         \n",
      " 17  usd_per_gb             2293 non-null   int64         \n",
      " 18  usd_per_message        2293 non-null   float64       \n",
      " 19  usd_per_minute         2293 non-null   float64       \n",
      "dtypes: datetime64[ns](2), float64(4), int32(3), int64(7), object(4)\n",
      "memory usage: 331.5+ KB\n"
     ]
    }
   ],
   "source": [
    "# Añade la información de la tarifa\n",
    "user_spend_per_month = user_spend_per_month.merge(plans, on='plan_name')\n",
    "\n",
    "display(user_spend_per_month.head(10))\n",
    "\n",
    "user_spend_per_month.info()\n"
   ]
  },
  {
   "cell_type": "code",
   "execution_count": 29,
   "metadata": {
    "id": "5FGCf_c60q1I"
   },
   "outputs": [
    {
     "data": {
      "text/html": [
       "<div>\n",
       "<style scoped>\n",
       "    .dataframe tbody tr th:only-of-type {\n",
       "        vertical-align: middle;\n",
       "    }\n",
       "\n",
       "    .dataframe tbody tr th {\n",
       "        vertical-align: top;\n",
       "    }\n",
       "\n",
       "    .dataframe thead th {\n",
       "        text-align: right;\n",
       "    }\n",
       "</style>\n",
       "<table border=\"1\" class=\"dataframe\">\n",
       "  <thead>\n",
       "    <tr style=\"text-align: right;\">\n",
       "      <th></th>\n",
       "      <th>user_id</th>\n",
       "      <th>first_name</th>\n",
       "      <th>last_name</th>\n",
       "      <th>age</th>\n",
       "      <th>city</th>\n",
       "      <th>reg_date</th>\n",
       "      <th>plan_name</th>\n",
       "      <th>churn_date</th>\n",
       "      <th>month</th>\n",
       "      <th>total_calls</th>\n",
       "      <th>...</th>\n",
       "      <th>total_messages</th>\n",
       "      <th>gb_used</th>\n",
       "      <th>messages_included</th>\n",
       "      <th>mb_per_month_included</th>\n",
       "      <th>minutes_included</th>\n",
       "      <th>usd_monthly_pay</th>\n",
       "      <th>usd_per_gb</th>\n",
       "      <th>usd_per_message</th>\n",
       "      <th>usd_per_minute</th>\n",
       "      <th>usd_total_pay</th>\n",
       "    </tr>\n",
       "  </thead>\n",
       "  <tbody>\n",
       "    <tr>\n",
       "      <th>532</th>\n",
       "      <td>1113</td>\n",
       "      <td>Spencer</td>\n",
       "      <td>Powers</td>\n",
       "      <td>27</td>\n",
       "      <td>New York-Newark-Jersey City, NY-NJ-PA MSA</td>\n",
       "      <td>2018-06-04</td>\n",
       "      <td>ultimate</td>\n",
       "      <td>NaT</td>\n",
       "      <td>6</td>\n",
       "      <td>54</td>\n",
       "      <td>...</td>\n",
       "      <td>44</td>\n",
       "      <td>14.0</td>\n",
       "      <td>1000</td>\n",
       "      <td>30720</td>\n",
       "      <td>3000</td>\n",
       "      <td>70</td>\n",
       "      <td>7</td>\n",
       "      <td>0.01</td>\n",
       "      <td>0.01</td>\n",
       "      <td>70.00</td>\n",
       "    </tr>\n",
       "    <tr>\n",
       "      <th>1724</th>\n",
       "      <td>1369</td>\n",
       "      <td>Bernard</td>\n",
       "      <td>Mckee</td>\n",
       "      <td>69</td>\n",
       "      <td>Milwaukee-Waukesha, WI MSA</td>\n",
       "      <td>2018-10-06</td>\n",
       "      <td>surf</td>\n",
       "      <td>NaT</td>\n",
       "      <td>12</td>\n",
       "      <td>58</td>\n",
       "      <td>...</td>\n",
       "      <td>112</td>\n",
       "      <td>36.0</td>\n",
       "      <td>50</td>\n",
       "      <td>15360</td>\n",
       "      <td>500</td>\n",
       "      <td>20</td>\n",
       "      <td>10</td>\n",
       "      <td>0.03</td>\n",
       "      <td>0.03</td>\n",
       "      <td>231.86</td>\n",
       "    </tr>\n",
       "    <tr>\n",
       "      <th>1796</th>\n",
       "      <td>1387</td>\n",
       "      <td>Raymonde</td>\n",
       "      <td>Lowe</td>\n",
       "      <td>28</td>\n",
       "      <td>Bridgeport-Stamford-Norwalk, CT MSA</td>\n",
       "      <td>2018-05-25</td>\n",
       "      <td>surf</td>\n",
       "      <td>NaT</td>\n",
       "      <td>10</td>\n",
       "      <td>71</td>\n",
       "      <td>...</td>\n",
       "      <td>17</td>\n",
       "      <td>21.0</td>\n",
       "      <td>50</td>\n",
       "      <td>15360</td>\n",
       "      <td>500</td>\n",
       "      <td>20</td>\n",
       "      <td>10</td>\n",
       "      <td>0.03</td>\n",
       "      <td>0.03</td>\n",
       "      <td>80.30</td>\n",
       "    </tr>\n",
       "    <tr>\n",
       "      <th>695</th>\n",
       "      <td>1145</td>\n",
       "      <td>Venice</td>\n",
       "      <td>Brooks</td>\n",
       "      <td>29</td>\n",
       "      <td>San Jose-Sunnyvale-Santa Clara, CA MSA</td>\n",
       "      <td>2018-04-12</td>\n",
       "      <td>surf</td>\n",
       "      <td>NaT</td>\n",
       "      <td>12</td>\n",
       "      <td>55</td>\n",
       "      <td>...</td>\n",
       "      <td>61</td>\n",
       "      <td>19.0</td>\n",
       "      <td>50</td>\n",
       "      <td>15360</td>\n",
       "      <td>500</td>\n",
       "      <td>20</td>\n",
       "      <td>10</td>\n",
       "      <td>0.03</td>\n",
       "      <td>0.03</td>\n",
       "      <td>60.33</td>\n",
       "    </tr>\n",
       "    <tr>\n",
       "      <th>124</th>\n",
       "      <td>1033</td>\n",
       "      <td>Latoyia</td>\n",
       "      <td>Moran</td>\n",
       "      <td>28</td>\n",
       "      <td>Oklahoma City, OK MSA</td>\n",
       "      <td>2018-05-30</td>\n",
       "      <td>ultimate</td>\n",
       "      <td>NaT</td>\n",
       "      <td>12</td>\n",
       "      <td>98</td>\n",
       "      <td>...</td>\n",
       "      <td>32</td>\n",
       "      <td>21.0</td>\n",
       "      <td>1000</td>\n",
       "      <td>30720</td>\n",
       "      <td>3000</td>\n",
       "      <td>70</td>\n",
       "      <td>7</td>\n",
       "      <td>0.01</td>\n",
       "      <td>0.01</td>\n",
       "      <td>70.00</td>\n",
       "    </tr>\n",
       "    <tr>\n",
       "      <th>1675</th>\n",
       "      <td>1361</td>\n",
       "      <td>Jacelyn</td>\n",
       "      <td>Hoffman</td>\n",
       "      <td>45</td>\n",
       "      <td>Birmingham-Hoover, AL MSA</td>\n",
       "      <td>2018-04-14</td>\n",
       "      <td>surf</td>\n",
       "      <td>NaT</td>\n",
       "      <td>12</td>\n",
       "      <td>53</td>\n",
       "      <td>...</td>\n",
       "      <td>49</td>\n",
       "      <td>17.0</td>\n",
       "      <td>50</td>\n",
       "      <td>15360</td>\n",
       "      <td>500</td>\n",
       "      <td>20</td>\n",
       "      <td>10</td>\n",
       "      <td>0.03</td>\n",
       "      <td>0.03</td>\n",
       "      <td>40.15</td>\n",
       "    </tr>\n",
       "    <tr>\n",
       "      <th>1454</th>\n",
       "      <td>1317</td>\n",
       "      <td>Ruthanne</td>\n",
       "      <td>Heath</td>\n",
       "      <td>70</td>\n",
       "      <td>Phoenix-Mesa-Chandler, AZ MSA</td>\n",
       "      <td>2018-11-11</td>\n",
       "      <td>ultimate</td>\n",
       "      <td>NaT</td>\n",
       "      <td>11</td>\n",
       "      <td>58</td>\n",
       "      <td>...</td>\n",
       "      <td>0</td>\n",
       "      <td>9.0</td>\n",
       "      <td>1000</td>\n",
       "      <td>30720</td>\n",
       "      <td>3000</td>\n",
       "      <td>70</td>\n",
       "      <td>7</td>\n",
       "      <td>0.01</td>\n",
       "      <td>0.01</td>\n",
       "      <td>70.00</td>\n",
       "    </tr>\n",
       "    <tr>\n",
       "      <th>1101</th>\n",
       "      <td>1232</td>\n",
       "      <td>Elidia</td>\n",
       "      <td>Russell</td>\n",
       "      <td>64</td>\n",
       "      <td>Chicago-Naperville-Elgin, IL-IN-WI MSA</td>\n",
       "      <td>2018-04-07</td>\n",
       "      <td>surf</td>\n",
       "      <td>NaT</td>\n",
       "      <td>12</td>\n",
       "      <td>92</td>\n",
       "      <td>...</td>\n",
       "      <td>3</td>\n",
       "      <td>18.0</td>\n",
       "      <td>50</td>\n",
       "      <td>15360</td>\n",
       "      <td>500</td>\n",
       "      <td>20</td>\n",
       "      <td>10</td>\n",
       "      <td>0.03</td>\n",
       "      <td>0.03</td>\n",
       "      <td>54.41</td>\n",
       "    </tr>\n",
       "    <tr>\n",
       "      <th>907</th>\n",
       "      <td>1188</td>\n",
       "      <td>Ethelene</td>\n",
       "      <td>Brock</td>\n",
       "      <td>31</td>\n",
       "      <td>Richmond, VA MSA</td>\n",
       "      <td>2018-01-10</td>\n",
       "      <td>ultimate</td>\n",
       "      <td>NaT</td>\n",
       "      <td>12</td>\n",
       "      <td>26</td>\n",
       "      <td>...</td>\n",
       "      <td>52</td>\n",
       "      <td>20.0</td>\n",
       "      <td>1000</td>\n",
       "      <td>30720</td>\n",
       "      <td>3000</td>\n",
       "      <td>70</td>\n",
       "      <td>7</td>\n",
       "      <td>0.01</td>\n",
       "      <td>0.01</td>\n",
       "      <td>70.00</td>\n",
       "    </tr>\n",
       "    <tr>\n",
       "      <th>2042</th>\n",
       "      <td>1439</td>\n",
       "      <td>Moses</td>\n",
       "      <td>Cabrera</td>\n",
       "      <td>28</td>\n",
       "      <td>Riverside-San Bernardino-Ontario, CA MSA</td>\n",
       "      <td>2018-01-04</td>\n",
       "      <td>surf</td>\n",
       "      <td>NaT</td>\n",
       "      <td>10</td>\n",
       "      <td>40</td>\n",
       "      <td>...</td>\n",
       "      <td>77</td>\n",
       "      <td>18.0</td>\n",
       "      <td>50</td>\n",
       "      <td>15360</td>\n",
       "      <td>500</td>\n",
       "      <td>20</td>\n",
       "      <td>10</td>\n",
       "      <td>0.03</td>\n",
       "      <td>0.03</td>\n",
       "      <td>50.81</td>\n",
       "    </tr>\n",
       "  </tbody>\n",
       "</table>\n",
       "<p>10 rows × 21 columns</p>\n",
       "</div>"
      ],
      "text/plain": [
       "      user_id first_name last_name  age  \\\n",
       "532      1113    Spencer    Powers   27   \n",
       "1724     1369    Bernard     Mckee   69   \n",
       "1796     1387   Raymonde      Lowe   28   \n",
       "695      1145     Venice    Brooks   29   \n",
       "124      1033    Latoyia     Moran   28   \n",
       "1675     1361    Jacelyn   Hoffman   45   \n",
       "1454     1317   Ruthanne     Heath   70   \n",
       "1101     1232     Elidia   Russell   64   \n",
       "907      1188   Ethelene     Brock   31   \n",
       "2042     1439      Moses   Cabrera   28   \n",
       "\n",
       "                                           city   reg_date plan_name  \\\n",
       "532   New York-Newark-Jersey City, NY-NJ-PA MSA 2018-06-04  ultimate   \n",
       "1724                 Milwaukee-Waukesha, WI MSA 2018-10-06      surf   \n",
       "1796        Bridgeport-Stamford-Norwalk, CT MSA 2018-05-25      surf   \n",
       "695      San Jose-Sunnyvale-Santa Clara, CA MSA 2018-04-12      surf   \n",
       "124                       Oklahoma City, OK MSA 2018-05-30  ultimate   \n",
       "1675                  Birmingham-Hoover, AL MSA 2018-04-14      surf   \n",
       "1454              Phoenix-Mesa-Chandler, AZ MSA 2018-11-11  ultimate   \n",
       "1101     Chicago-Naperville-Elgin, IL-IN-WI MSA 2018-04-07      surf   \n",
       "907                            Richmond, VA MSA 2018-01-10  ultimate   \n",
       "2042   Riverside-San Bernardino-Ontario, CA MSA 2018-01-04      surf   \n",
       "\n",
       "     churn_date  month  total_calls  ...  total_messages  gb_used  \\\n",
       "532         NaT      6           54  ...              44     14.0   \n",
       "1724        NaT     12           58  ...             112     36.0   \n",
       "1796        NaT     10           71  ...              17     21.0   \n",
       "695         NaT     12           55  ...              61     19.0   \n",
       "124         NaT     12           98  ...              32     21.0   \n",
       "1675        NaT     12           53  ...              49     17.0   \n",
       "1454        NaT     11           58  ...               0      9.0   \n",
       "1101        NaT     12           92  ...               3     18.0   \n",
       "907         NaT     12           26  ...              52     20.0   \n",
       "2042        NaT     10           40  ...              77     18.0   \n",
       "\n",
       "      messages_included  mb_per_month_included  minutes_included  \\\n",
       "532                1000                  30720              3000   \n",
       "1724                 50                  15360               500   \n",
       "1796                 50                  15360               500   \n",
       "695                  50                  15360               500   \n",
       "124                1000                  30720              3000   \n",
       "1675                 50                  15360               500   \n",
       "1454               1000                  30720              3000   \n",
       "1101                 50                  15360               500   \n",
       "907                1000                  30720              3000   \n",
       "2042                 50                  15360               500   \n",
       "\n",
       "      usd_monthly_pay  usd_per_gb  usd_per_message  usd_per_minute  \\\n",
       "532                70           7             0.01            0.01   \n",
       "1724               20          10             0.03            0.03   \n",
       "1796               20          10             0.03            0.03   \n",
       "695                20          10             0.03            0.03   \n",
       "124                70           7             0.01            0.01   \n",
       "1675               20          10             0.03            0.03   \n",
       "1454               70           7             0.01            0.01   \n",
       "1101               20          10             0.03            0.03   \n",
       "907                70           7             0.01            0.01   \n",
       "2042               20          10             0.03            0.03   \n",
       "\n",
       "      usd_total_pay  \n",
       "532           70.00  \n",
       "1724         231.86  \n",
       "1796          80.30  \n",
       "695           60.33  \n",
       "124           70.00  \n",
       "1675          40.15  \n",
       "1454          70.00  \n",
       "1101          54.41  \n",
       "907           70.00  \n",
       "2042          50.81  \n",
       "\n",
       "[10 rows x 21 columns]"
      ]
     },
     "metadata": {},
     "output_type": "display_data"
    },
    {
     "data": {
      "text/html": [
       "<div>\n",
       "<style scoped>\n",
       "    .dataframe tbody tr th:only-of-type {\n",
       "        vertical-align: middle;\n",
       "    }\n",
       "\n",
       "    .dataframe tbody tr th {\n",
       "        vertical-align: top;\n",
       "    }\n",
       "\n",
       "    .dataframe thead th {\n",
       "        text-align: right;\n",
       "    }\n",
       "</style>\n",
       "<table border=\"1\" class=\"dataframe\">\n",
       "  <thead>\n",
       "    <tr style=\"text-align: right;\">\n",
       "      <th></th>\n",
       "      <th>user_id</th>\n",
       "      <th>first_name</th>\n",
       "      <th>last_name</th>\n",
       "      <th>age</th>\n",
       "      <th>city</th>\n",
       "      <th>reg_date</th>\n",
       "      <th>plan_name</th>\n",
       "      <th>churn_date</th>\n",
       "      <th>month</th>\n",
       "      <th>total_calls</th>\n",
       "      <th>...</th>\n",
       "      <th>total_messages</th>\n",
       "      <th>gb_used</th>\n",
       "      <th>messages_included</th>\n",
       "      <th>mb_per_month_included</th>\n",
       "      <th>minutes_included</th>\n",
       "      <th>usd_monthly_pay</th>\n",
       "      <th>usd_per_gb</th>\n",
       "      <th>usd_per_message</th>\n",
       "      <th>usd_per_minute</th>\n",
       "      <th>usd_total_pay</th>\n",
       "    </tr>\n",
       "  </thead>\n",
       "  <tbody>\n",
       "    <tr>\n",
       "      <th>19</th>\n",
       "      <td>1006</td>\n",
       "      <td>Jesusa</td>\n",
       "      <td>Bradford</td>\n",
       "      <td>73</td>\n",
       "      <td>San Francisco-Oakland-Berkeley, CA MSA</td>\n",
       "      <td>2018-11-27</td>\n",
       "      <td>ultimate</td>\n",
       "      <td>2018-12-18</td>\n",
       "      <td>11</td>\n",
       "      <td>2</td>\n",
       "      <td>...</td>\n",
       "      <td>15</td>\n",
       "      <td>3.0</td>\n",
       "      <td>1000</td>\n",
       "      <td>30720</td>\n",
       "      <td>3000</td>\n",
       "      <td>70</td>\n",
       "      <td>7</td>\n",
       "      <td>0.01</td>\n",
       "      <td>0.01</td>\n",
       "      <td>70.0</td>\n",
       "    </tr>\n",
       "    <tr>\n",
       "      <th>20</th>\n",
       "      <td>1006</td>\n",
       "      <td>Jesusa</td>\n",
       "      <td>Bradford</td>\n",
       "      <td>73</td>\n",
       "      <td>San Francisco-Oakland-Berkeley, CA MSA</td>\n",
       "      <td>2018-11-27</td>\n",
       "      <td>ultimate</td>\n",
       "      <td>2018-12-18</td>\n",
       "      <td>12</td>\n",
       "      <td>9</td>\n",
       "      <td>...</td>\n",
       "      <td>139</td>\n",
       "      <td>32.0</td>\n",
       "      <td>1000</td>\n",
       "      <td>30720</td>\n",
       "      <td>3000</td>\n",
       "      <td>70</td>\n",
       "      <td>7</td>\n",
       "      <td>0.01</td>\n",
       "      <td>0.01</td>\n",
       "      <td>84.0</td>\n",
       "    </tr>\n",
       "  </tbody>\n",
       "</table>\n",
       "<p>2 rows × 21 columns</p>\n",
       "</div>"
      ],
      "text/plain": [
       "    user_id first_name last_name  age                                    city  \\\n",
       "19     1006     Jesusa  Bradford   73  San Francisco-Oakland-Berkeley, CA MSA   \n",
       "20     1006     Jesusa  Bradford   73  San Francisco-Oakland-Berkeley, CA MSA   \n",
       "\n",
       "     reg_date plan_name churn_date  month  total_calls  ...  total_messages  \\\n",
       "19 2018-11-27  ultimate 2018-12-18     11            2  ...              15   \n",
       "20 2018-11-27  ultimate 2018-12-18     12            9  ...             139   \n",
       "\n",
       "    gb_used  messages_included  mb_per_month_included  minutes_included  \\\n",
       "19      3.0               1000                  30720              3000   \n",
       "20     32.0               1000                  30720              3000   \n",
       "\n",
       "    usd_monthly_pay  usd_per_gb  usd_per_message  usd_per_minute  \\\n",
       "19               70           7             0.01            0.01   \n",
       "20               70           7             0.01            0.01   \n",
       "\n",
       "    usd_total_pay  \n",
       "19           70.0  \n",
       "20           84.0  \n",
       "\n",
       "[2 rows x 21 columns]"
      ]
     },
     "metadata": {},
     "output_type": "display_data"
    }
   ],
   "source": [
    "# Calcula el ingreso mensual para cada usuario\n",
    "# 1 gb = 1024 mb\n",
    "\n",
    "minutes =  user_spend_per_month['duration'] - user_spend_per_month['minutes_included']\n",
    "\n",
    "minutes[minutes<0]=0\n",
    "\n",
    "minutes_extra = minutes * user_spend_per_month['usd_per_minute']\n",
    "\n",
    "messages = user_spend_per_month['total_messages'] - user_spend_per_month['messages_included']\n",
    "\n",
    "messages[messages<0]=0\n",
    "\n",
    "messages_extra = messages * user_spend_per_month['usd_per_message']\n",
    "\n",
    "gb = user_spend_per_month['gb_used'] - (user_spend_per_month['mb_per_month_included'] / 1024)\n",
    "\n",
    "gb[gb<0]=0\n",
    "\n",
    "gb_extra = gb * user_spend_per_month['usd_per_gb']\n",
    "\n",
    "user_spend_per_month['usd_total_pay'] = user_spend_per_month['usd_monthly_pay'] + minutes_extra + messages_extra + gb_extra\n",
    "\n",
    "display(user_spend_per_month.sample(10))\n",
    "\n",
    "display(user_spend_per_month[user_spend_per_month['user_id']==1006])"
   ]
  },
  {
   "cell_type": "markdown",
   "metadata": {
    "id": "-jtyHzJb0q1I"
   },
   "source": [
    "## Estudia el comportamiento de usuario"
   ]
  },
  {
   "cell_type": "markdown",
   "metadata": {
    "id": "vtW4CJEe0q1J"
   },
   "source": [
    "### Llamadas"
   ]
  },
  {
   "cell_type": "code",
   "execution_count": 30,
   "metadata": {
    "id": "Jf5v5--k0q1J"
   },
   "outputs": [
    {
     "data": {
      "image/png": "[encoded data removed]",
      "text/plain": [
       "<Figure size 1500x800 with 1 Axes>"
      ]
     },
     "metadata": {},
     "output_type": "display_data"
    }
   ],
   "source": [
    "# Compara la duración promedio de llamadas por cada plan y por cada mes. Traza un gráfico de barras para visualizarla.\n",
    "\n",
    "\n",
    "pivot_mean_calls = user_spend_per_month.pivot_table(index='month',\n",
    "                                                    columns='plan_name',\n",
    "                                                    values='total_calls',\n",
    "                                                    aggfunc='mean'\n",
    "                                                    )\n",
    "pivot_mean_calls.plot (kind='bar',\n",
    "                       title= 'Mean minutes used per month',\n",
    "                       xlabel= 'Month',\n",
    "                       ylabel= 'Duration',\n",
    "                       figsize= (15, 8),\n",
    "                       color= ['pink', 'purple'], \n",
    "                     )\n",
    "plt.legend(['Surf', 'Ultimate'])\n",
    "plt.show()\n"
   ]
  },
  {
   "cell_type": "code",
   "execution_count": 31,
   "metadata": {
    "id": "QoLqW1S_0q1J"
   },
   "outputs": [
    {
     "data": {
      "text/plain": [
       "Text(0, 0.5, 'Frequency')"
      ]
     },
     "execution_count": 31,
     "metadata": {},
     "output_type": "execute_result"
    },
    {
     "data": {
      "image/png": "[encoded data removed]",
      "text/plain": [
       "<Figure size 1000x800 with 1 Axes>"
      ]
     },
     "metadata": {},
     "output_type": "display_data"
    },
    {
     "data": {
      "image/png": "[encoded data removed]",
      "text/plain": [
       "<Figure size 1000x800 with 1 Axes>"
      ]
     },
     "metadata": {},
     "output_type": "display_data"
    }
   ],
   "source": [
    "# Compara el número de minutos mensuales que necesitan los usuarios de cada plan. Traza un histograma.\n",
    "\n",
    "plt.figure(figsize=(10,8))\n",
    "user_spend_per_month[user_spend_per_month['plan_name'] =='ultimate']['duration'].hist(color='purple')\n",
    "\n",
    "plt.xlabel('Minutes')\n",
    "plt.ylabel('Frequency')\n",
    "\n",
    "plt.figure(figsize=(10,8))\n",
    "user_spend_per_month[user_spend_per_month['plan_name'] =='surf']['duration'].hist(color='pink')\n",
    "plt.xlabel('Minutes')\n",
    "plt.ylabel('Frequency')\n"
   ]
  },
  {
   "cell_type": "code",
   "execution_count": 32,
   "metadata": {
    "id": "oSndbAnt0q1K"
   },
   "outputs": [
    {
     "name": "stdout",
     "output_type": "stream",
     "text": [
      "La media de la duracion del plan surf es:  428.7495232040687\n",
      "\n",
      "La varianza de la duracion del plan surf es:  54968.27946065038\n",
      "\n",
      "La media de la duracion del plan ultimate es:  430.45\n",
      "\n",
      "La varianza de la duracion del plan ultimate es:  57844.46481223922\n"
     ]
    }
   ],
   "source": [
    "# Calcula la media y la varianza de la duración mensual de llamadas.\n",
    "\n",
    "duration_mean_surf = user_spend_per_month[user_spend_per_month['plan_name'] =='surf']['duration'].mean()\n",
    "\n",
    "duration_var_surf = user_spend_per_month[user_spend_per_month['plan_name'] =='surf']['duration'].var()\n",
    "\n",
    "duration_mean_ultimate = user_spend_per_month[user_spend_per_month['plan_name'] =='ultimate']['duration'].mean()\n",
    "\n",
    "duration_var_ultimate = user_spend_per_month[user_spend_per_month['plan_name'] =='ultimate']['duration'].var()\n",
    "\n",
    "print('La media de la duracion del plan surf es: ', duration_mean_surf)\n",
    "print()\n",
    "\n",
    "print('La varianza de la duracion del plan surf es: ', duration_var_surf)\n",
    "print()\n",
    "\n",
    "print('La media de la duracion del plan ultimate es: ', duration_mean_ultimate)\n",
    "print()\n",
    "\n",
    "print('La varianza de la duracion del plan ultimate es: ', duration_var_ultimate)"
   ]
  },
  {
   "cell_type": "code",
   "execution_count": 33,
   "metadata": {
    "id": "nZzoRUKc0q1K"
   },
   "outputs": [
    {
     "data": {
      "image/png": "[encoded data removed]",
      "text/plain": [
       "<Figure size 300x800 with 1 Axes>"
      ]
     },
     "metadata": {},
     "output_type": "display_data"
    }
   ],
   "source": [
    "# Traza un diagrama de caja para visualizar la distribución de la duración mensual de llamadas\n",
    "plan_ultimate_duration = user_spend_per_month[user_spend_per_month['plan_name'] =='ultimate']['duration']\n",
    "\n",
    "plan_surf_duration = user_spend_per_month[user_spend_per_month['plan_name'] =='surf']['duration']\n",
    "\n",
    "plt.figure(figsize= (3, 8))\n",
    "plt.title = ('Plan Ultimate Duration')\n",
    "sns.boxplot(plan_ultimate_duration, color='purple')\n",
    "\n",
    "plt.show()\n",
    "\n"
   ]
  },
  {
   "cell_type": "code",
   "execution_count": 34,
   "metadata": {},
   "outputs": [
    {
     "data": {
      "text/plain": [
       "pandas.core.series.Series"
      ]
     },
     "execution_count": 34,
     "metadata": {},
     "output_type": "execute_result"
    }
   ],
   "source": [
    "type(plan_surf_duration)"
   ]
  },
  {
   "cell_type": "code",
   "execution_count": 35,
   "metadata": {},
   "outputs": [
    {
     "data": {
      "image/png": "[encoded data removed]",
      "text/plain": [
       "<Figure size 300x800 with 1 Axes>"
      ]
     },
     "metadata": {},
     "output_type": "display_data"
    }
   ],
   "source": [
    "plt.figure(figsize= (3, 8))\n",
    "plt.title = ('Plan Surf Duration')\n",
    "sns.boxplot(y=plan_surf_duration, color='pink')\n",
    "plt.show()\n"
   ]
  },
  {
   "cell_type": "markdown",
   "metadata": {
    "id": "r627zBO50q1K"
   },
   "source": [
    "El promedio de llamadas realizadas por mes es similar para los usuarios de ambos planes. En ambos casos, la media de llamadas es más alta en los meses de enero, febrero y marzo, y luego disminuye gradualmente a lo largo del año. Sin embargo, hay una ligera diferencia en la distribución de las llamadas entre los dos tipos de planes. Los planes Surf muestran una media de llamadas ligeramente más alta en los meses de verano (junio, julio y agosto), mientras que los planes Ultimate presentan una media de llamadas ligeramente más alta en los meses de invierno (diciembre, enero y febrero).\n",
    "\n",
    "La mayoría de los usuarios del plan Ultimate utilizan alrededor de 500 minutos al mes, mientras que la mayoría de los usuarios del plan Surf utilizan entre 250 y 450 minutos al mes. No obstante, también se observa una cantidad significativa de usuarios que exceden los 600 minutos al mes en el plan Surf. Esta masa de usuarios rebasa los minutos incluidos en su plan.\n",
    "\n",
    "De las graficas analizadas se puede concluir que en cuanto a minutos utilizados al mes los usuarios de ambos planes tiene un comportamiento muy similar, siendo el plan surf el que mas valores atipicos presenta. \n",
    "\n",
    " "
   ]
  },
  {
   "cell_type": "markdown",
   "metadata": {
    "id": "8idKy8Wh0q1L"
   },
   "source": [
    "### Mensajes"
   ]
  },
  {
   "cell_type": "code",
   "execution_count": 36,
   "metadata": {
    "id": "NXLxiTit0q1L"
   },
   "outputs": [
    {
     "data": {
      "text/plain": [
       "<matplotlib.legend.Legend at 0x230d8ad8bc0>"
      ]
     },
     "execution_count": 36,
     "metadata": {},
     "output_type": "execute_result"
    },
    {
     "data": {
      "image/png": "[encoded data removed]",
      "text/plain": [
       "<Figure size 1500x800 with 1 Axes>"
      ]
     },
     "metadata": {},
     "output_type": "display_data"
    }
   ],
   "source": [
    "# Comprara el número de mensajes que tienden a enviar cada mes los usuarios de cada plan\n",
    "\n",
    "\n",
    "pivot_mean_messages = user_spend_per_month.pivot_table(index='month',\n",
    "                                                    columns='plan_name',\n",
    "                                                    values='total_messages',\n",
    "                                                    aggfunc='mean'\n",
    "                                                    )\n",
    "pivot_mean_messages.plot (kind='bar',\n",
    "                       title= 'Mean messages per month',\n",
    "                       xlabel= 'Month',\n",
    "                       ylabel= 'Messages',\n",
    "                       figsize= (15, 8),\n",
    "                       color= ['pink', 'purple'], \n",
    "                     )\n",
    "plt.legend(['Surf', 'Ultimate'])\n",
    "\n"
   ]
  },
  {
   "cell_type": "code",
   "execution_count": 37,
   "metadata": {},
   "outputs": [
    {
     "name": "stdout",
     "output_type": "stream",
     "text": [
      "La media de los mensajes del plan surf es:  31.15956770502225\n",
      "\n",
      "La varianza de los mensajes del plan surf es:  1126.7245219504068\n",
      "\n",
      "La media de los mensajes del plan ultimate es:  37.55138888888889\n",
      "\n",
      "La varianza de los mensajes del plan ultimate es:  1208.7567435481378\n"
     ]
    }
   ],
   "source": [
    "# Calcula la media y la varianza de los mensajes mensuales.\n",
    "\n",
    "messages_mean_surf = user_spend_per_month[user_spend_per_month['plan_name'] =='surf']['total_messages'].mean()\n",
    "\n",
    "messages_var_surf = user_spend_per_month[user_spend_per_month['plan_name'] =='surf']['total_messages'].var()\n",
    "\n",
    "messages_mean_ultimate = user_spend_per_month[user_spend_per_month['plan_name'] =='ultimate']['total_messages'].mean()\n",
    "\n",
    "messages_var_ultimate = user_spend_per_month[user_spend_per_month['plan_name'] =='ultimate']['total_messages'].var()\n",
    "\n",
    "print('La media de los mensajes del plan surf es: ', messages_mean_surf)\n",
    "print()\n",
    "\n",
    "print('La varianza de los mensajes del plan surf es: ', messages_var_surf)\n",
    "print()\n",
    "\n",
    "print('La media de los mensajes del plan ultimate es: ', messages_mean_ultimate)\n",
    "print()\n",
    "\n",
    "print('La varianza de los mensajes del plan ultimate es: ', messages_var_ultimate)\n"
   ]
  },
  {
   "cell_type": "code",
   "execution_count": 38,
   "metadata": {},
   "outputs": [
    {
     "data": {
      "text/plain": [
       "<Axes: ylabel='total_messages'>"
      ]
     },
     "execution_count": 38,
     "metadata": {},
     "output_type": "execute_result"
    },
    {
     "data": {
      "image/png": "[encoded data removed]",
      "text/plain": [
       "<Figure size 300x800 with 1 Axes>"
      ]
     },
     "metadata": {},
     "output_type": "display_data"
    },
    {
     "data": {
      "image/png": "[encoded data removed]",
      "text/plain": [
       "<Figure size 300x800 with 1 Axes>"
      ]
     },
     "metadata": {},
     "output_type": "display_data"
    }
   ],
   "source": [
    "# Traza un diagrama de caja para visualizar la distribución de los mensajes mensuales\n",
    "\n",
    "plan_ultimate_messages = user_spend_per_month[user_spend_per_month['plan_name'] =='ultimate']['total_messages']\n",
    "\n",
    "plan_surf_messages = user_spend_per_month[user_spend_per_month['plan_name'] =='surf']['total_messages']\n",
    "\n",
    "plt.figure(figsize= (3, 8))\n",
    "\n",
    "sns.boxplot(plan_ultimate_messages, color='purple')\n",
    "\n",
    "\n",
    "plt.figure(figsize= (3, 8))\n",
    "\n",
    "sns.boxplot(plan_surf_messages, color='pink')\n",
    "\n"
   ]
  },
  {
   "cell_type": "markdown",
   "metadata": {},
   "source": [
    "En este caso, se observa claramente que los usuarios del plan Ultimate tienden a enviar muchos más mensajes que los del plan Surf en promedio. La cantidad de mensajes enviados por los usuarios de Ultimate aumenta mes a mes, alcanzando su punto máximo en diciembre. Aunque los mensajes enviados por los usuarios del plan Surf también aumentan a lo largo del año, la cantidad total es considerablemente menor en comparación con los usuarios de Surf.\n",
    "\n",
    "Parece que ambos grupos de usuarios superan su cantidad mínima de mensajes a partir de mayo. En el plan Surf, hay muchos usuarios con comportamientos atípicos que pueden estar afectando notablemente el gráfico de barras. El promedio de usuarios del plan surf envian 31 mensajes al mes mientras que el plan ultimate 37. Por lo que puede concluirse que la mayoria de la poblacion no rebasa los mensajes incluidos en su plan, no obstante existe usuarios que disparen el grafico de barras al usar muchos mas mensajes al mes llegando a maximas de casi 300. El valor maximo de mensajes enviados en el plan ultimate es mucho mayor, alcanzando los 140."
   ]
  },
  {
   "cell_type": "markdown",
   "metadata": {
    "id": "42YSypXz0q1M"
   },
   "source": [
    "### Internet"
   ]
  },
  {
   "cell_type": "code",
   "execution_count": 39,
   "metadata": {},
   "outputs": [
    {
     "data": {
      "image/png": "[encoded data removed]",
      "text/plain": [
       "<Figure size 1500x800 with 1 Axes>"
      ]
     },
     "metadata": {},
     "output_type": "display_data"
    }
   ],
   "source": [
    "# Compara la cantidad de tráfico de Internet consumido por usuarios por plan\n",
    "\n",
    "pivot_mean_gb = user_spend_per_month.pivot_table(index='month',\n",
    "                                                    columns='plan_name',\n",
    "                                                    values='gb_used',\n",
    "                                                    aggfunc='mean'\n",
    "                                                    )\n",
    "\n",
    "pivot_mean_gb.plot (kind='bar',\n",
    "                       title= 'Mean GB used per month',\n",
    "                       xlabel= 'Month',\n",
    "                       ylabel= 'GB',\n",
    "                       figsize= (15, 8),\n",
    "                       color= ['pink', 'purple'], \n",
    "                     )\n",
    "plt.legend(['Surf', 'Ultimate'])\n",
    "plt.show()\n",
    "\n"
   ]
  },
  {
   "cell_type": "code",
   "execution_count": 40,
   "metadata": {},
   "outputs": [
    {
     "name": "stdout",
     "output_type": "stream",
     "text": [
      "La media de los gb utilizados por el plan surf es:  16.670692943420217\n",
      "\n",
      "La varianza de los gb utilizados por el plan surf es:  61.58359983759013\n",
      "\n",
      "La media de los gb utilizados por el plan ultimate es:  17.306944444444444\n",
      "\n",
      "La varianza de los gb utilizados por el plan ultimate es:  58.830549760469786\n"
     ]
    }
   ],
   "source": [
    "# Calcula la media y la varianza de los mb mensuales.\n",
    "gb_mean_surf = user_spend_per_month[user_spend_per_month['plan_name'] =='surf']['gb_used'].mean()\n",
    "\n",
    "gb_var_surf = user_spend_per_month[user_spend_per_month['plan_name'] =='surf']['gb_used'].var()\n",
    "\n",
    "gb_mean_ultimate = user_spend_per_month[user_spend_per_month['plan_name'] =='ultimate']['gb_used'].mean()\n",
    "\n",
    "gb_var_ultimate = user_spend_per_month[user_spend_per_month['plan_name'] =='ultimate']['gb_used'].var()\n",
    "\n",
    "print('La media de los gb utilizados por el plan surf es: ', gb_mean_surf)\n",
    "print()\n",
    "\n",
    "print('La varianza de los gb utilizados por el plan surf es: ', gb_var_surf)\n",
    "print()\n",
    "\n",
    "print('La media de los gb utilizados por el plan ultimate es: ', gb_mean_ultimate)\n",
    "print()\n",
    "\n",
    "print('La varianza de los gb utilizados por el plan ultimate es: ', gb_var_ultimate)\n",
    "\n"
   ]
  },
  {
   "cell_type": "code",
   "execution_count": 41,
   "metadata": {},
   "outputs": [
    {
     "data": {
      "image/png": "[encoded data removed]",
      "text/plain": [
       "<Figure size 300x800 with 1 Axes>"
      ]
     },
     "metadata": {},
     "output_type": "display_data"
    },
    {
     "data": {
      "image/png": "[encoded data removed]",
      "text/plain": [
       "<Figure size 300x800 with 1 Axes>"
      ]
     },
     "metadata": {},
     "output_type": "display_data"
    }
   ],
   "source": [
    "# Traza un diagrama de caja para visualizar la distribución de los mb mensuales\n",
    "\n",
    "plan_ultimate_gb = user_spend_per_month[user_spend_per_month['plan_name'] =='ultimate']['gb_used']\n",
    "\n",
    "plan_surf_gb = user_spend_per_month[user_spend_per_month['plan_name'] =='surf']['gb_used']\n",
    "\n",
    "plt.figure(figsize= (3, 8))\n",
    "\n",
    "sns.boxplot(plan_ultimate_gb, color='purple')\n",
    "\n",
    "\n",
    "plt.figure(figsize= (3, 8))\n",
    "\n",
    "sns.boxplot(plan_surf_gb, color='pink')\n",
    "plt.show()\n"
   ]
  },
  {
   "cell_type": "markdown",
   "metadata": {
    "id": "UN9zwuMP0q1N"
   },
   "source": [
    "El promedio de los gb utilizados al mes por los usuarios del plan ultimate es mayor en todos los meses, en especial de enero a mayo. Julio es el unico mes donde el promedio utilizado por los usuarios surf es mas alto; sin embargo recordemos que ellos solamente cuentan con 15 gb al mes mientras que los usuarios ultimate cuentan con 30 gb incluidos al mes. \n",
    "\n",
    "Sin embargo al trazar la grafica de bigotes nuevamente notamos que los valores atipicos podrian estar modifando los datos ya que la media y la mediana rondan entre los 16 y los 17 gb utilizados al mes. Por su parte el plan surf se observa con mayor cantidad de valores atipicos llegando hasta maximos de 70 gb. Al revisar el promedio de gb utilizados al mes, notamos que el promedio de los usuarios que ultilizan el plan surf estan rebasando los gb incluidos en su plan que son 15.  "
   ]
  },
  {
   "cell_type": "markdown",
   "metadata": {
    "id": "tCijq3260q1N"
   },
   "source": [
    "## Ingreso"
   ]
  },
  {
   "cell_type": "code",
   "execution_count": 42,
   "metadata": {
    "id": "tz-dq_V00q1O"
   },
   "outputs": [
    {
     "data": {
      "image/png": "[encoded data removed]",
      "text/plain": [
       "<Figure size 1500x800 with 1 Axes>"
      ]
     },
     "metadata": {},
     "output_type": "display_data"
    }
   ],
   "source": [
    "\n",
    "pivot_incomes = user_spend_per_month.pivot_table(index='month',\n",
    "                                                    columns='plan_name',\n",
    "                                                    values='usd_total_pay',\n",
    "                                                    aggfunc='mean'\n",
    "                                                    )\n",
    "\n",
    "pivot_incomes.plot (kind='bar',\n",
    "                       title= 'Mean Incomes per month',\n",
    "                       xlabel= 'Month',\n",
    "                       ylabel= 'Income',\n",
    "                       figsize= (15, 8),\n",
    "                       color= ['pink', 'purple'], \n",
    "                     )\n",
    "plt.legend(['Surf', 'Ultimate'])\n",
    "plt.show()\n"
   ]
  },
  {
   "cell_type": "code",
   "execution_count": 43,
   "metadata": {
    "id": "0Y1v8ZUz0q1P"
   },
   "outputs": [
    {
     "name": "stdout",
     "output_type": "stream",
     "text": [
      "La media de los ingresos generados por el plan surf es:  60.706408137317226\n",
      "\n",
      "La varianza de los ingresos generados por el plan surf es:  3067.835152293878\n",
      "\n",
      "La media de ingresos generados por el plan ultimate es:  72.31388888888888\n",
      "\n",
      "La varianza de ingresos generados por el plan ultimate es:  129.8484855509195\n"
     ]
    }
   ],
   "source": [
    "\n",
    "incomes_mean_surf = user_spend_per_month[user_spend_per_month['plan_name'] =='surf']['usd_total_pay'].mean()\n",
    "\n",
    "incomes_var_surf = user_spend_per_month[user_spend_per_month['plan_name'] =='surf']['usd_total_pay'].var()\n",
    "\n",
    "incomes_mean_ultimate = user_spend_per_month[user_spend_per_month['plan_name'] =='ultimate']['usd_total_pay'].mean()\n",
    "\n",
    "incomes_var_ultimate = user_spend_per_month[user_spend_per_month['plan_name'] =='ultimate']['usd_total_pay'].var()\n",
    "\n",
    "print('La media de los ingresos generados por el plan surf es: ', incomes_mean_surf)\n",
    "print()\n",
    "\n",
    "print('La varianza de los ingresos generados por el plan surf es: ', incomes_var_surf)\n",
    "print()\n",
    "\n",
    "print('La media de ingresos generados por el plan ultimate es: ', incomes_mean_ultimate)\n",
    "print()\n",
    "\n",
    "print('La varianza de ingresos generados por el plan ultimate es: ', incomes_var_ultimate)"
   ]
  },
  {
   "cell_type": "code",
   "execution_count": 44,
   "metadata": {
    "id": "bYmwxyVh0q1P"
   },
   "outputs": [
    {
     "data": {
      "image/png": "[encoded data removed]",
      "text/plain": [
       "<Figure size 300x800 with 1 Axes>"
      ]
     },
     "metadata": {},
     "output_type": "display_data"
    }
   ],
   "source": [
    "plan_ultimate_incomes = user_spend_per_month[user_spend_per_month['plan_name'] =='ultimate']['usd_total_pay']\n",
    "\n",
    "plan_surf_incomes = user_spend_per_month[user_spend_per_month['plan_name'] =='surf']['usd_total_pay']\n",
    "\n",
    "plt.figure(figsize= (3, 8))\n",
    "\n",
    "sns.boxplot(plan_ultimate_incomes, color='purple', showfliers = False)\n",
    "plt.show\n",
    "\n",
    "\n",
    "plt.show()"
   ]
  },
  {
   "cell_type": "code",
   "execution_count": 45,
   "metadata": {},
   "outputs": [
    {
     "data": {
      "text/plain": [
       "<Axes: ylabel='usd_total_pay'>"
      ]
     },
     "execution_count": 45,
     "metadata": {},
     "output_type": "execute_result"
    },
    {
     "data": {
      "image/png": "[encoded data removed]",
      "text/plain": [
       "<Figure size 300x800 with 1 Axes>"
      ]
     },
     "metadata": {},
     "output_type": "display_data"
    }
   ],
   "source": [
    "plt.figure(figsize= (3, 8))\n",
    "\n",
    "sns.boxplot(plan_surf_incomes, color='pink', showfliers = False)"
   ]
  },
  {
   "cell_type": "code",
   "execution_count": 46,
   "metadata": {},
   "outputs": [
    {
     "data": {
      "text/plain": [
       "usd_total_pay\n",
       "70.0     94.305556\n",
       "91.0      0.833333\n",
       "126.0     0.833333\n",
       "112.0     0.694444\n",
       "77.0      0.694444\n",
       "84.0      0.555556\n",
       "119.0     0.555556\n",
       "105.0     0.555556\n",
       "182.0     0.277778\n",
       "140.0     0.138889\n",
       "154.0     0.138889\n",
       "168.0     0.138889\n",
       "98.0      0.138889\n",
       "133.0     0.138889\n",
       "Name: count, dtype: float64"
      ]
     },
     "execution_count": 46,
     "metadata": {},
     "output_type": "execute_result"
    }
   ],
   "source": [
    "100*plan_ultimate_incomes.value_counts()/plan_ultimate_incomes.shape[0]"
   ]
  },
  {
   "cell_type": "markdown",
   "metadata": {
    "id": "KAFidcXZ0q1P"
   },
   "source": [
    "La grafica de barras parece indicar que los ingresos que proporciona el plan surf, en realacion con el costo de su plan, son mayores, lo cual encuentra logica con las otras graficas que observamos a lo largo del analisis; toda vez que los mensajes y los gb se dispararon en cuanto a su uso apartir aproximadamente del mes de abril. cuando observamos la media de ingresos mensuales de ambos planes parece confirmar esta misma tendencia ya que la media del plan surf esta en 60 dlls al mes cuando el costo del plan es de 20 esto probablemente se debe a los usuarios primero a que los usuarios con consumos atipocos modifican considerablemente los ingresos medios, por otro lados los cosos por servicio extra para el plan surf son considerablemente mas elevados que para el plan ultimate. Esto podria derivar en que, al tener menos cantidad de servicio incluido sea mas comun que los usuarios surf rebasen dichos minimos y terminen pagando mas al mes que el precio base del plan; de igual forma al tener tarifas mas altas por servicio rebasado suelen terminar pagando mas al mes. \n",
    " \n",
    "Mientras que la mieda del plan ultimate es de 72 dlls al mes lo que parece indicar que casi ningun usario de este plan rebasa el costo base del mismo. \n",
    "\n",
    "En ambos planes se observan demasiados valores atipicos lo cual nos indica que muchos usarios salen del promedio de dlls pagados al mes, pero particularmente se dispara en los usuarios del plan ultimate, donde estos datos atipicos impiden completamente la visualizacion de la mayoria de la poblacion.  "
   ]
  },
  {
   "cell_type": "markdown",
   "metadata": {
    "id": "ajJ7VKeI0q1Q"
   },
   "source": [
    "## Prueba las hipótesis estadísticas"
   ]
  },
  {
   "cell_type": "code",
   "execution_count": 47,
   "metadata": {},
   "outputs": [
    {
     "name": "stdout",
     "output_type": "stream",
     "text": [
      "p-value: 5.028876110654919e-83\n",
      "Se rechaza la hipotesis nula\n"
     ]
    }
   ],
   "source": [
    "#ho: las varianza son iguales\n",
    "#h1: las varianzas no son iguales\n",
    "\n",
    "income_ultimate = user_spend_per_month[user_spend_per_month['plan_name'] == 'ultimate']['usd_total_pay']\n",
    "\n",
    "income_surf = user_spend_per_month[user_spend_per_month['plan_name'] == 'surf']['usd_total_pay']\n",
    "\n",
    "alpha = 0.05\n",
    "\n",
    "varianza = st.levene(income_ultimate, income_surf)\n",
    "\n",
    "print('p-value:', varianza.pvalue)\n",
    "\n",
    "if (varianza.pvalue < alpha):\n",
    "    print(\"Se rechaza la hipotesis nula\")\n",
    "else:\n",
    "    print(\"No podemos rechaza la hipotesis nula\")\n",
    "\n",
    "\n",
    "#Si rechazas H=, entonces equal_var = False, si no equal_Var = True"
   ]
  },
  {
   "cell_type": "code",
   "execution_count": 48,
   "metadata": {
    "id": "nFoPNlPq0q1R"
   },
   "outputs": [
    {
     "name": "stdout",
     "output_type": "stream",
     "text": [
      "p-value: 3.170390548113574e-15\n",
      "Se rechaza la hipotesis nula\n"
     ]
    }
   ],
   "source": [
    "# Prueba las hipótesis\n",
    "\n",
    "#Ho Los ingresos promedio procedentes de los usuarios de los planes de llamada Ultimate y Surf son iguales \n",
    "#H1: Los ingresos promedio procedentes de los usuarios de los planes de llammada Ultimate y Surf son diferentes \n",
    "\n",
    "income_ultimate = user_spend_per_month[user_spend_per_month['plan_name'] == 'ultimate']['usd_total_pay']\n",
    "\n",
    "income_surf = user_spend_per_month[user_spend_per_month['plan_name'] == 'surf']['usd_total_pay']\n",
    "\n",
    "alpha = 0.05\n",
    "\n",
    "results = st.ttest_ind(income_ultimate, income_surf, equal_var=False)\n",
    "\n",
    "print('p-value:', results.pvalue)\n",
    "\n",
    "if (results.pvalue < alpha):\n",
    "    print(\"Se rechaza la hipotesis nula\")\n",
    "else:\n",
    "    print(\"No podemos rechaza la hipotesis nula\")\n",
    "\n"
   ]
  },
  {
   "cell_type": "code",
   "execution_count": 49,
   "metadata": {},
   "outputs": [
    {
     "name": "stdout",
     "output_type": "stream",
     "text": [
      "p-value: 0.12580091109612837\n",
      "No podemos rechaza la hipotesis nula\n"
     ]
    }
   ],
   "source": [
    "#ho: las varianza son iguales\n",
    "#h1: las varianzas no son iguales\n",
    "\n",
    "ny_nj = user_spend_per_month[user_spend_per_month['city'].str.contains('NY-NJ')]['usd_total_pay']\n",
    "\n",
    "other_city = user_spend_per_month[~user_spend_per_month['city'].str.contains('NY-NJ')]['usd_total_pay']\n",
    "\n",
    "alpha = 0.05\n",
    "\n",
    "varianza_ny_nj = st.levene(ny_nj, other_city)\n",
    "\n",
    "print('p-value:', varianza_ny_nj.pvalue)\n",
    "\n",
    "if (varianza_ny_nj.pvalue < alpha):\n",
    "    print(\"Se rechaza la hipotesis nula\")\n",
    "else:\n",
    "    print(\"No podemos rechaza la hipotesis nula\")"
   ]
  },
  {
   "cell_type": "code",
   "execution_count": 50,
   "metadata": {
    "id": "Cqcj7wrZ0q1S"
   },
   "outputs": [
    {
     "name": "stdout",
     "output_type": "stream",
     "text": [
      "p-value: 0.043557431621342436\n",
      "Se rechaza la hipotesis nula\n"
     ]
    }
   ],
   "source": [
    "# Prueba las hipótesis\n",
    "\n",
    "#Hipotesis nula: El ingreso promedio de los usuarios del área NY-NJ es igual al de los usuarios de otras regiones\n",
    "\n",
    "#Hipotesis alternativa: El ingreso promedio de los usuarios del área NY-NJ es diferente al de los usuarios de otras regiones\n",
    "ny_nj = user_spend_per_month[user_spend_per_month['city'].str.contains('NY-NJ')]['usd_total_pay']\n",
    "\n",
    "other_city = user_spend_per_month[~user_spend_per_month['city'].str.contains('NY-NJ')]['usd_total_pay']\n",
    "alpha = 0.05\n",
    "\n",
    "results = st.ttest_ind(ny_nj, other_city, equal_var=True)\n",
    "\n",
    "print('p-value:', results.pvalue)\n",
    "\n",
    "if (results.pvalue < alpha):\n",
    "    print(\"Se rechaza la hipotesis nula\")\n",
    "else:\n",
    "    print(\"No podemos rechaza la hipotesis nula\")\n"
   ]
  },
  {
   "cell_type": "markdown",
   "metadata": {
    "id": "bbTR8UQO0q1T"
   },
   "source": [
    "## Conclusión general\n",
    "\n",
    "\n",
    "A raíz de los puntos mencionados y teniendo en cuenta los resultados de la prueba de hipótesis estadística, se pueden generar las siguientes conclusiones:\n",
    "\n",
    "1. Ingresos y varianza: Los ingresos promedio y la varianza de la población del plan Surf y Ultimate son significativamente diferentes. Esto sugiere que hay diferencias sustanciales en los patrones de consumo de los usuarios de ambos planes.\n",
    "\n",
    "2. Rentabilidad del plan Surf: Los ingresos que proporciona el plan Surf parecen ser superiores en relación con el costo del plan. Esto es coherente con el aumento en el uso de mensajes y datos (GB) a partir de abril, lo que lleva a los usuarios a superar los límites de su plan y pagar tarifas adicionales. Los altos costos por servicios extra en el plan Surf podrían estar contribuyendo a estos ingresos elevados.\n",
    "\n",
    "3. Estabilidad del plan Ultimate: Los usuarios del plan Ultimate parecen estar pagando cerca del costo base del plan (72 dólares al mes), lo que indica que la mayoría de los usuarios no superan los límites de su plan. Esto sugiere que el plan Ultimate ofrece una mayor estabilidad en los costos mensuales para los usuarios.\n",
    "\n",
    "4. Valores atípicos: Ambos planes presentan una cantidad significativa de valores atípicos en los ingresos y el uso, especialmente en el plan Ultimate. Esto podría deberse a un pequeño grupo de usuarios con comportamientos de consumo extremos, que afectan los ingresos medios y la visualización de la distribución de la población general. La presencia de muchos valores atípicos, especialmente en el plan Ultimate, puede dificultar la interpretación de los datos y distorsionar la percepción de la mayoría de los usuarios.\n",
    "\n",
    "En general, se observa que el plan Surf tiende a generar mayores ingresos debido a los cargos adicionales por superar los límites del plan, mientras que el plan Ultimate ofrece un costo mensual más constante para los usuarios."
   ]
  }
 ],
 "metadata": {
  "ExecuteTimeLog": [
   {
    "duration": 828,
    "start_time": "2021-11-16T09:21:11.304Z"
   },
   {
    "duration": 893,
    "start_time": "2021-11-16T09:21:17.728Z"
   },
   {
    "duration": 1150,
    "start_time": "2021-11-16T09:21:29.568Z"
   },
   {
    "duration": 3,
    "start_time": "2021-11-16T09:24:14.495Z"
   },
   {
    "duration": 120,
    "start_time": "2021-11-16T09:24:46.630Z"
   },
   {
    "duration": 3,
    "start_time": "2021-11-16T09:28:27.882Z"
   },
   {
    "duration": 4,
    "start_time": "2021-11-16T09:29:54.281Z"
   },
   {
    "duration": 3,
    "start_time": "2021-11-16T09:30:45.936Z"
   },
   {
    "duration": 4,
    "start_time": "2021-11-16T09:31:06.300Z"
   },
   {
    "duration": 113,
    "start_time": "2021-11-16T09:31:37.208Z"
   },
   {
    "duration": 143,
    "start_time": "2021-11-16T09:31:48.656Z"
   },
   {
    "duration": 98,
    "start_time": "2021-11-16T09:31:55.678Z"
   },
   {
    "duration": 3,
    "start_time": "2021-11-16T09:32:08.535Z"
   },
   {
    "duration": 111,
    "start_time": "2021-11-16T09:32:10.120Z"
   },
   {
    "duration": 3,
    "start_time": "2021-11-16T09:32:15.732Z"
   },
   {
    "duration": 4,
    "start_time": "2021-11-16T09:32:29.423Z"
   },
   {
    "duration": 3,
    "start_time": "2021-11-16T10:03:03.074Z"
   },
   {
    "duration": 3,
    "start_time": "2021-11-16T10:10:01.288Z"
   },
   {
    "duration": 3,
    "start_time": "2021-11-16T10:10:46.923Z"
   },
   {
    "duration": 121,
    "start_time": "2021-11-16T10:37:46.494Z"
   },
   {
    "duration": 125,
    "start_time": "2021-11-16T10:38:20.632Z"
   },
   {
    "duration": 112,
    "start_time": "2021-11-16T10:46:53.001Z"
   },
   {
    "duration": 110,
    "start_time": "2021-11-16T10:48:25.775Z"
   },
   {
    "duration": 3,
    "start_time": "2021-11-16T10:50:18.720Z"
   },
   {
    "duration": 4,
    "start_time": "2021-11-16T10:50:37.649Z"
   },
   {
    "duration": 2,
    "start_time": "2021-11-16T10:50:51.884Z"
   },
   {
    "duration": 3,
    "start_time": "2021-11-16T10:51:56.237Z"
   },
   {
    "duration": 101,
    "start_time": "2021-11-16T10:53:13.791Z"
   },
   {
    "duration": 3,
    "start_time": "2021-11-16T10:55:59.186Z"
   },
   {
    "duration": 3,
    "start_time": "2021-11-16T10:56:10.751Z"
   },
   {
    "duration": 3,
    "start_time": "2021-11-16T10:56:49.038Z"
   },
   {
    "duration": 3,
    "start_time": "2021-11-16T10:56:49.174Z"
   },
   {
    "duration": 4,
    "start_time": "2021-11-16T10:56:49.414Z"
   },
   {
    "duration": 3,
    "start_time": "2021-11-16T10:56:49.680Z"
   },
   {
    "duration": 3,
    "start_time": "2021-11-16T10:56:50.370Z"
   },
   {
    "duration": 114,
    "start_time": "2021-11-16T10:59:34.518Z"
   },
   {
    "duration": 3,
    "start_time": "2021-11-16T11:01:41.201Z"
   },
   {
    "duration": 116,
    "start_time": "2021-11-16T11:01:48.754Z"
   },
   {
    "duration": 3,
    "start_time": "2021-11-16T11:02:16.685Z"
   },
   {
    "duration": 3,
    "start_time": "2021-11-16T11:02:19.479Z"
   },
   {
    "duration": 3,
    "start_time": "2021-11-16T11:02:47.067Z"
   },
   {
    "duration": 3,
    "start_time": "2021-11-16T11:02:49.353Z"
   },
   {
    "duration": 3,
    "start_time": "2021-11-16T11:03:07.835Z"
   },
   {
    "duration": 3,
    "start_time": "2021-11-16T11:03:07.953Z"
   },
   {
    "duration": 112,
    "start_time": "2021-11-16T11:07:52.072Z"
   },
   {
    "duration": 187,
    "start_time": "2021-11-16T11:09:23.468Z"
   },
   {
    "duration": 4,
    "start_time": "2021-11-16T11:10:01.455Z"
   },
   {
    "duration": 3,
    "start_time": "2021-11-16T11:10:05.069Z"
   },
   {
    "duration": 4,
    "start_time": "2021-11-16T11:10:13.376Z"
   },
   {
    "duration": 3,
    "start_time": "2021-11-16T11:10:14.434Z"
   },
   {
    "duration": 3,
    "start_time": "2021-11-16T11:10:22.853Z"
   },
   {
    "duration": 4,
    "start_time": "2021-11-16T11:27:29.279Z"
   },
   {
    "duration": 4,
    "start_time": "2021-11-16T11:29:08.919Z"
   },
   {
    "duration": 118,
    "start_time": "2021-11-16T11:29:46.703Z"
   },
   {
    "duration": 437,
    "start_time": "2021-11-16T11:36:02.181Z"
   },
   {
    "duration": 157,
    "start_time": "2021-11-16T11:36:14.388Z"
   },
   {
    "duration": 207,
    "start_time": "2021-11-16T11:47:15.898Z"
   },
   {
    "duration": 3,
    "start_time": "2021-11-16T11:53:52.092Z"
   },
   {
    "duration": 3,
    "start_time": "2021-11-16T11:53:52.236Z"
   },
   {
    "duration": 3,
    "start_time": "2021-11-16T11:59:12.005Z"
   },
   {
    "duration": 112,
    "start_time": "2021-11-16T12:00:33.446Z"
   },
   {
    "duration": 3,
    "start_time": "2021-11-16T12:02:14.453Z"
   },
   {
    "duration": 3,
    "start_time": "2021-11-16T12:02:39.512Z"
   },
   {
    "duration": 106,
    "start_time": "2021-11-16T12:03:03.460Z"
   },
   {
    "duration": 3,
    "start_time": "2021-11-17T20:37:21.139Z"
   },
   {
    "duration": 3,
    "start_time": "2021-11-17T20:37:22.229Z"
   },
   {
    "duration": 3,
    "start_time": "2021-11-17T20:38:38.806Z"
   },
   {
    "duration": 3,
    "start_time": "2021-11-17T20:38:41.958Z"
   },
   {
    "duration": 3,
    "start_time": "2021-11-17T20:43:46.551Z"
   },
   {
    "duration": 4,
    "start_time": "2021-11-17T20:58:21.835Z"
   },
   {
    "duration": 3,
    "start_time": "2021-11-17T20:59:21.872Z"
   },
   {
    "duration": 4,
    "start_time": "2021-11-17T20:59:45.352Z"
   },
   {
    "duration": 4,
    "start_time": "2021-11-17T20:59:49.646Z"
   },
   {
    "duration": 159,
    "start_time": "2021-11-17T21:02:26.949Z"
   },
   {
    "duration": 3,
    "start_time": "2021-11-17T21:03:53.461Z"
   },
   {
    "duration": 3,
    "start_time": "2021-11-17T21:03:53.694Z"
   },
   {
    "duration": 3,
    "start_time": "2021-11-17T21:05:28.145Z"
   },
   {
    "duration": 116,
    "start_time": "2021-11-17T21:05:57.787Z"
   },
   {
    "duration": 3,
    "start_time": "2021-11-17T21:06:37.993Z"
   },
   {
    "duration": 3,
    "start_time": "2021-11-17T21:06:38.261Z"
   },
   {
    "duration": 3,
    "start_time": "2021-11-17T21:11:54.358Z"
   },
   {
    "duration": 3,
    "start_time": "2021-11-17T21:12:43.846Z"
   },
   {
    "duration": 4,
    "start_time": "2021-11-17T21:13:08.773Z"
   },
   {
    "duration": 3,
    "start_time": "2021-11-17T21:14:44.441Z"
   },
   {
    "duration": 3,
    "start_time": "2021-11-17T21:15:42.059Z"
   },
   {
    "duration": 4,
    "start_time": "2021-11-17T21:15:51.995Z"
   },
   {
    "duration": 3,
    "start_time": "2021-11-17T21:15:53.923Z"
   },
   {
    "duration": 3,
    "start_time": "2021-11-17T21:15:55.282Z"
   },
   {
    "duration": 3,
    "start_time": "2021-11-17T21:16:28.492Z"
   },
   {
    "duration": 3,
    "start_time": "2021-11-17T21:16:32.603Z"
   },
   {
    "duration": 3,
    "start_time": "2021-11-17T21:17:06.941Z"
   },
   {
    "duration": 98,
    "start_time": "2021-11-17T21:18:05.733Z"
   },
   {
    "duration": 4,
    "start_time": "2021-11-17T21:21:35.255Z"
   },
   {
    "duration": 3,
    "start_time": "2021-11-17T21:21:37.804Z"
   },
   {
    "duration": 4,
    "start_time": "2021-11-17T21:23:06.071Z"
   },
   {
    "duration": 3,
    "start_time": "2021-11-17T21:23:24.799Z"
   },
   {
    "duration": 3,
    "start_time": "2021-11-17T21:23:32.591Z"
   },
   {
    "duration": 98,
    "start_time": "2021-11-17T21:28:31.559Z"
   },
   {
    "duration": 3,
    "start_time": "2021-11-17T21:28:45.448Z"
   },
   {
    "duration": 3,
    "start_time": "2021-11-17T21:29:17.303Z"
   },
   {
    "duration": 3,
    "start_time": "2021-11-17T21:29:29.617Z"
   },
   {
    "duration": 3,
    "start_time": "2021-11-17T21:29:32.681Z"
   },
   {
    "duration": 3,
    "start_time": "2021-11-17T21:36:11.474Z"
   },
   {
    "duration": 3,
    "start_time": "2021-11-17T21:36:14.791Z"
   },
   {
    "duration": 3,
    "start_time": "2021-11-17T21:36:53.943Z"
   },
   {
    "duration": 3,
    "start_time": "2021-11-17T21:36:56.165Z"
   },
   {
    "duration": 4,
    "start_time": "2021-11-17T21:37:16.590Z"
   },
   {
    "duration": 3,
    "start_time": "2021-11-17T21:37:22.702Z"
   },
   {
    "duration": 4,
    "start_time": "2021-11-17T21:38:03.479Z"
   },
   {
    "duration": 3,
    "start_time": "2021-11-17T21:38:08.601Z"
   },
   {
    "duration": 3,
    "start_time": "2021-11-17T21:38:12.928Z"
   },
   {
    "duration": 3,
    "start_time": "2021-11-17T21:38:48.896Z"
   },
   {
    "duration": 2,
    "start_time": "2021-11-17T21:38:49.171Z"
   },
   {
    "duration": 4,
    "start_time": "2021-11-17T21:39:57.889Z"
   },
   {
    "duration": 3,
    "start_time": "2021-11-17T21:39:58.057Z"
   },
   {
    "duration": 3,
    "start_time": "2021-11-17T21:41:20.108Z"
   },
   {
    "duration": 3,
    "start_time": "2021-11-17T21:41:20.629Z"
   },
   {
    "duration": 3,
    "start_time": "2021-11-17T21:42:49.136Z"
   },
   {
    "duration": 3,
    "start_time": "2021-11-17T21:43:15.137Z"
   },
   {
    "duration": 4,
    "start_time": "2021-11-17T21:43:16.766Z"
   },
   {
    "duration": 4,
    "start_time": "2021-11-17T21:43:31.711Z"
   },
   {
    "duration": 3,
    "start_time": "2021-11-17T21:43:36.312Z"
   },
   {
    "duration": 4,
    "start_time": "2021-11-17T21:45:08.825Z"
   },
   {
    "duration": 4,
    "start_time": "2021-11-17T21:45:10.119Z"
   },
   {
    "duration": 4,
    "start_time": "2021-11-17T21:45:13.748Z"
   },
   {
    "duration": 3,
    "start_time": "2021-11-17T21:45:22.219Z"
   },
   {
    "duration": 3,
    "start_time": "2021-11-17T21:45:33.412Z"
   },
   {
    "duration": 2,
    "start_time": "2021-11-17T21:46:01.885Z"
   },
   {
    "duration": 3,
    "start_time": "2021-11-17T21:46:03.628Z"
   },
   {
    "duration": 107,
    "start_time": "2021-11-17T21:47:32.512Z"
   },
   {
    "duration": 103,
    "start_time": "2021-11-17T21:50:36.243Z"
   },
   {
    "duration": 3,
    "start_time": "2021-11-18T06:28:31.440Z"
   },
   {
    "duration": 3,
    "start_time": "2021-11-18T06:29:00.168Z"
   },
   {
    "duration": 3,
    "start_time": "2021-11-18T06:31:27.008Z"
   },
   {
    "duration": 2,
    "start_time": "2021-11-18T06:35:34.288Z"
   },
   {
    "duration": 2,
    "start_time": "2021-11-18T06:38:04.527Z"
   }
  ],
  "colab": {
   "provenance": []
  },
  "kernelspec": {
   "display_name": "Python 3 (ipykernel)",
   "language": "python",
   "name": "python3"
  },
  "language_info": {
   "codemirror_mode": {
    "name": "ipython",
    "version": 3
   },
   "file_extension": ".py",
   "mimetype": "text/x-python",
   "name": "python",
   "nbconvert_exporter": "python",
   "pygments_lexer": "ipython3",
   "version": "3.12.2"
  },
  "toc": {
   "base_numbering": 1,
   "nav_menu": {},
   "number_sections": true,
   "sideBar": true,
   "skip_h1_title": false,
   "title_cell": "Table of Contents",
   "title_sidebar": "Contents",
   "toc_cell": false,
   "toc_position": {},
   "toc_section_display": true,
   "toc_window_display": true
  }
 },
 "nbformat": 4,
 "nbformat_minor": 1
}
